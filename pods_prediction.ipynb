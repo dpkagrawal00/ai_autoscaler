{
 "cells": [
  {
   "cell_type": "code",
   "execution_count": 9,
   "id": "2829b93d-736f-44bb-91c6-ba58e4eb4fce",
   "metadata": {},
   "outputs": [],
   "source": [
    "import pandas as pd\n",
    "from sklearn.model_selection import train_test_split\n",
    "import numpy as np\n",
    "import matplotlib.pyplot as plt\n",
    "import seaborn as sns\n",
    "import h2o\n",
    "from h2o.automl import H2OAutoML"
   ]
  },
  {
   "cell_type": "code",
   "execution_count": 10,
   "id": "71db46ce-3dd6-44e1-8085-1339ea556ec7",
   "metadata": {},
   "outputs": [
    {
     "name": "stdout",
     "output_type": "stream",
     "text": [
      "Checking whether there is an H2O instance running at http://localhost:54321. connected.\n"
     ]
    },
    {
     "data": {
      "text/html": [
       "\n",
       "<style>\n",
       "\n",
       "#h2o-table-1.h2o-container {\n",
       "  overflow-x: auto;\n",
       "}\n",
       "#h2o-table-1 .h2o-table {\n",
       "  /* width: 100%; */\n",
       "  margin-top: 1em;\n",
       "  margin-bottom: 1em;\n",
       "}\n",
       "#h2o-table-1 .h2o-table caption {\n",
       "  white-space: nowrap;\n",
       "  caption-side: top;\n",
       "  text-align: left;\n",
       "  /* margin-left: 1em; */\n",
       "  margin: 0;\n",
       "  font-size: larger;\n",
       "}\n",
       "#h2o-table-1 .h2o-table thead {\n",
       "  white-space: nowrap; \n",
       "  position: sticky;\n",
       "  top: 0;\n",
       "  box-shadow: 0 -1px inset;\n",
       "}\n",
       "#h2o-table-1 .h2o-table tbody {\n",
       "  overflow: auto;\n",
       "}\n",
       "#h2o-table-1 .h2o-table th,\n",
       "#h2o-table-1 .h2o-table td {\n",
       "  text-align: right;\n",
       "  /* border: 1px solid; */\n",
       "}\n",
       "#h2o-table-1 .h2o-table tr:nth-child(even) {\n",
       "  /* background: #F5F5F5 */\n",
       "}\n",
       "\n",
       "</style>      \n",
       "<div id=\"h2o-table-1\" class=\"h2o-container\">\n",
       "  <table class=\"h2o-table\">\n",
       "    <caption></caption>\n",
       "    <thead></thead>\n",
       "    <tbody><tr><td>H2O_cluster_uptime:</td>\n",
       "<td>1 hour 22 mins</td></tr>\n",
       "<tr><td>H2O_cluster_timezone:</td>\n",
       "<td>Asia/Kolkata</td></tr>\n",
       "<tr><td>H2O_data_parsing_timezone:</td>\n",
       "<td>UTC</td></tr>\n",
       "<tr><td>H2O_cluster_version:</td>\n",
       "<td>3.46.0.7</td></tr>\n",
       "<tr><td>H2O_cluster_version_age:</td>\n",
       "<td>7 days, 23 hours and 33 minutes</td></tr>\n",
       "<tr><td>H2O_cluster_name:</td>\n",
       "<td>H2O_from_python_deepakagrawal_of8gfg</td></tr>\n",
       "<tr><td>H2O_cluster_total_nodes:</td>\n",
       "<td>1</td></tr>\n",
       "<tr><td>H2O_cluster_free_memory:</td>\n",
       "<td>3.533 Gb</td></tr>\n",
       "<tr><td>H2O_cluster_total_cores:</td>\n",
       "<td>10</td></tr>\n",
       "<tr><td>H2O_cluster_allowed_cores:</td>\n",
       "<td>10</td></tr>\n",
       "<tr><td>H2O_cluster_status:</td>\n",
       "<td>locked, healthy</td></tr>\n",
       "<tr><td>H2O_connection_url:</td>\n",
       "<td>http://localhost:54321</td></tr>\n",
       "<tr><td>H2O_connection_proxy:</td>\n",
       "<td>{\"http\": null, \"https\": null}</td></tr>\n",
       "<tr><td>H2O_internal_security:</td>\n",
       "<td>False</td></tr>\n",
       "<tr><td>Python_version:</td>\n",
       "<td>3.12.4 final</td></tr></tbody>\n",
       "  </table>\n",
       "</div>\n"
      ],
      "text/plain": [
       "--------------------------  ------------------------------------\n",
       "H2O_cluster_uptime:         1 hour 22 mins\n",
       "H2O_cluster_timezone:       Asia/Kolkata\n",
       "H2O_data_parsing_timezone:  UTC\n",
       "H2O_cluster_version:        3.46.0.7\n",
       "H2O_cluster_version_age:    7 days, 23 hours and 33 minutes\n",
       "H2O_cluster_name:           H2O_from_python_deepakagrawal_of8gfg\n",
       "H2O_cluster_total_nodes:    1\n",
       "H2O_cluster_free_memory:    3.533 Gb\n",
       "H2O_cluster_total_cores:    10\n",
       "H2O_cluster_allowed_cores:  10\n",
       "H2O_cluster_status:         locked, healthy\n",
       "H2O_connection_url:         http://localhost:54321\n",
       "H2O_connection_proxy:       {\"http\": null, \"https\": null}\n",
       "H2O_internal_security:      False\n",
       "Python_version:             3.12.4 final\n",
       "--------------------------  ------------------------------------"
      ]
     },
     "metadata": {},
     "output_type": "display_data"
    }
   ],
   "source": [
    "h2o.init()"
   ]
  },
  {
   "cell_type": "code",
   "execution_count": 12,
   "id": "65e23dd0-1213-4b81-ac19-397debd1d02a",
   "metadata": {},
   "outputs": [
    {
     "name": "stdout",
     "output_type": "stream",
     "text": [
      "Parse progress: |████████████████████████████████████████████████████████████████| (done) 100%\n"
     ]
    }
   ],
   "source": [
    "historical_data = h2o.import_file('/Users/deepakagrawal/AI Hackathon/ipl_train_data.csv')"
   ]
  },
  {
   "cell_type": "code",
   "execution_count": 13,
   "id": "86daa8a6-e059-4571-b6db-c34ab4853684",
   "metadata": {},
   "outputs": [],
   "source": [
    "h2o_df = h2o.H2OFrame(historical_data)"
   ]
  },
  {
   "cell_type": "code",
   "execution_count": 14,
   "id": "104cc3dc-6f05-447e-9d73-034fae5af34f",
   "metadata": {},
   "outputs": [
    {
     "data": {
      "text/plain": [
       "{'team1': 'enum',\n",
       " 'team2': 'enum',\n",
       " 'days': 'enum',\n",
       " 'sessions': 'enum',\n",
       " 'year': 'int',\n",
       " 'location': 'enum',\n",
       " 'popularity_team1': 'int',\n",
       " 'popularity_team2': 'int',\n",
       " 'pods_required': 'int'}"
      ]
     },
     "execution_count": 14,
     "metadata": {},
     "output_type": "execute_result"
    }
   ],
   "source": [
    "h2o_df.types\n"
   ]
  },
  {
   "cell_type": "code",
   "execution_count": 18,
   "id": "c0c20570-af1c-45fa-b3df-ed7ae5846aa0",
   "metadata": {},
   "outputs": [
    {
     "data": {
      "text/html": [
       "<table class='dataframe'>\n",
       "<thead>\n",
       "<tr><th>team1  </th><th>team2  </th><th>days    </th><th>sessions  </th><th style=\"text-align: right;\">  year</th><th>location  </th><th style=\"text-align: right;\">  popularity_team1</th><th style=\"text-align: right;\">  popularity_team2</th><th style=\"text-align: right;\">  pods_required</th></tr>\n",
       "</thead>\n",
       "<tbody>\n",
       "<tr><td>DC     </td><td>PBKS   </td><td>Thursday</td><td>Evening   </td><td style=\"text-align: right;\">  2023</td><td>Kolkata   </td><td style=\"text-align: right;\">                 6</td><td style=\"text-align: right;\">                 5</td><td style=\"text-align: right;\">             26</td></tr>\n",
       "<tr><td>CSK    </td><td>RCB    </td><td>Friday  </td><td>Afternoon </td><td style=\"text-align: right;\">  2024</td><td>Delhi     </td><td style=\"text-align: right;\">                 9</td><td style=\"text-align: right;\">                 8</td><td style=\"text-align: right;\">             39</td></tr>\n",
       "<tr><td>CSK    </td><td>RCB    </td><td>Tuesday </td><td>Evening   </td><td style=\"text-align: right;\">  2022</td><td>Delhi     </td><td style=\"text-align: right;\">                 9</td><td style=\"text-align: right;\">                 8</td><td style=\"text-align: right;\">             39</td></tr>\n",
       "<tr><td>MI     </td><td>LSG    </td><td>Friday  </td><td>Afternoon </td><td style=\"text-align: right;\">  2022</td><td>Mumbai    </td><td style=\"text-align: right;\">                10</td><td style=\"text-align: right;\">                 7</td><td style=\"text-align: right;\">             35</td></tr>\n",
       "<tr><td>GT     </td><td>MI     </td><td>Thursday</td><td>Evening   </td><td style=\"text-align: right;\">  2022</td><td>Delhi     </td><td style=\"text-align: right;\">                 8</td><td style=\"text-align: right;\">                10</td><td style=\"text-align: right;\">             41</td></tr>\n",
       "<tr><td>LSG    </td><td>MI     </td><td>Monday  </td><td>Evening   </td><td style=\"text-align: right;\">  2021</td><td>Bangalore </td><td style=\"text-align: right;\">                 7</td><td style=\"text-align: right;\">                10</td><td style=\"text-align: right;\">             37</td></tr>\n",
       "<tr><td>PBKS   </td><td>RR     </td><td>Friday  </td><td>Afternoon </td><td style=\"text-align: right;\">  2022</td><td>Jaipur    </td><td style=\"text-align: right;\">                 5</td><td style=\"text-align: right;\">                 6</td><td style=\"text-align: right;\">             23</td></tr>\n",
       "<tr><td>GT     </td><td>CSK    </td><td>Tuesday </td><td>Afternoon </td><td style=\"text-align: right;\">  2022</td><td>Lucknow   </td><td style=\"text-align: right;\">                 8</td><td style=\"text-align: right;\">                 9</td><td style=\"text-align: right;\">             35</td></tr>\n",
       "<tr><td>LSG    </td><td>GT     </td><td>Friday  </td><td>Evening   </td><td style=\"text-align: right;\">  2022</td><td>Hyderabad </td><td style=\"text-align: right;\">                 7</td><td style=\"text-align: right;\">                 8</td><td style=\"text-align: right;\">             34</td></tr>\n",
       "<tr><td>LSG    </td><td>PBKS   </td><td>Thursday</td><td>Afternoon </td><td style=\"text-align: right;\">  2024</td><td>Delhi     </td><td style=\"text-align: right;\">                 7</td><td style=\"text-align: right;\">                 5</td><td style=\"text-align: right;\">             27</td></tr>\n",
       "</tbody>\n",
       "</table><pre style='font-size: smaller; margin-bottom: 1em;'>[10 rows x 9 columns]</pre>"
      ],
      "text/plain": [
       "team1    team2    days      sessions      year  location      popularity_team1    popularity_team2    pods_required\n",
       "-------  -------  --------  ----------  ------  ----------  ------------------  ------------------  ---------------\n",
       "DC       PBKS     Thursday  Evening       2023  Kolkata                      6                   5               26\n",
       "CSK      RCB      Friday    Afternoon     2024  Delhi                        9                   8               39\n",
       "CSK      RCB      Tuesday   Evening       2022  Delhi                        9                   8               39\n",
       "MI       LSG      Friday    Afternoon     2022  Mumbai                      10                   7               35\n",
       "GT       MI       Thursday  Evening       2022  Delhi                        8                  10               41\n",
       "LSG      MI       Monday    Evening       2021  Bangalore                    7                  10               37\n",
       "PBKS     RR       Friday    Afternoon     2022  Jaipur                       5                   6               23\n",
       "GT       CSK      Tuesday   Afternoon     2022  Lucknow                      8                   9               35\n",
       "LSG      GT       Friday    Evening       2022  Hyderabad                    7                   8               34\n",
       "LSG      PBKS     Thursday  Afternoon     2024  Delhi                        7                   5               27\n",
       "[10 rows x 9 columns]\n"
      ]
     },
     "execution_count": 18,
     "metadata": {},
     "output_type": "execute_result"
    }
   ],
   "source": [
    "h2o_df.head()\n"
   ]
  },
  {
   "cell_type": "code",
   "execution_count": 19,
   "id": "420be7c8-c96e-4361-bceb-e361efc86a33",
   "metadata": {},
   "outputs": [],
   "source": [
    "pods_train, pods_test = h2o_df.split_frame(ratios = [0.8], seed = 42)"
   ]
  },
  {
   "cell_type": "code",
   "execution_count": 20,
   "id": "e6cd85fa-d4c9-467a-a6fe-fe37e1f6b188",
   "metadata": {},
   "outputs": [],
   "source": [
    "Y = \"pods_required\"\n",
    "X = h2o_df.columns\n",
    "X.remove(Y)"
   ]
  },
  {
   "cell_type": "code",
   "execution_count": 21,
   "id": "749beb80-fbc1-466f-8617-8d1a16e4e0de",
   "metadata": {},
   "outputs": [
    {
     "data": {
      "text/plain": [
       "['team1',\n",
       " 'team2',\n",
       " 'days',\n",
       " 'sessions',\n",
       " 'year',\n",
       " 'location',\n",
       " 'popularity_team1',\n",
       " 'popularity_team2']"
      ]
     },
     "execution_count": 21,
     "metadata": {},
     "output_type": "execute_result"
    }
   ],
   "source": [
    "X"
   ]
  },
  {
   "cell_type": "code",
   "execution_count": 22,
   "id": "2b8e012f-4021-4d73-b627-dccfb8b50105",
   "metadata": {},
   "outputs": [
    {
     "data": {
      "text/plain": [
       "'pods_required'"
      ]
     },
     "execution_count": 22,
     "metadata": {},
     "output_type": "execute_result"
    }
   ],
   "source": [
    "Y"
   ]
  },
  {
   "cell_type": "code",
   "execution_count": 23,
   "id": "dc1d9a01-39cb-4f68-acf7-2ffe542db074",
   "metadata": {},
   "outputs": [
    {
     "name": "stdout",
     "output_type": "stream",
     "text": [
      "AutoML progress: |\n",
      "15:34:17.494: Project: AutoML_2_20250404_153417\n",
      "15:34:17.494: 5-fold cross-validation will be used.\n",
      "15:34:17.494: Setting stopping tolerance adaptively based on the training frame: 0.05\n",
      "15:34:17.494: Build control seed: 42\n",
      "15:34:17.495: training frame: Frame key: AutoML_2_20250404_153417_training_py_5_sid_896b    cols: 9    rows: 195  chunks: 1    size: 7681  checksum: 51013270510065\n",
      "15:34:17.495: validation frame: NULL\n",
      "15:34:17.495: leaderboard frame: NULL\n",
      "15:34:17.495: blending frame: NULL\n",
      "15:34:17.495: response column: pods_required\n",
      "15:34:17.495: fold column: null\n",
      "15:34:17.495: weights column: null\n",
      "15:34:17.495: AutoML: XGBoost is not available; skipping it.\n",
      "15:34:17.495: Loading execution steps: [{XGBoost : [def_2 (1g, 10w), def_1 (2g, 10w), def_3 (3g, 10w), grid_1 (4g, 90w), lr_search (7g, 30w)]}, {GLM : [def_1 (1g, 10w)]}, {DRF : [def_1 (2g, 10w), XRT (3g, 10w)]}, {GBM : [def_5 (1g, 10w), def_2 (2g, 10w), def_3 (2g, 10w), def_4 (2g, 10w), def_1 (3g, 10w), grid_1 (4g, 60w), lr_annealing (7g, 10w)]}, {DeepLearning : [def_1 (3g, 10w), grid_1 (4g, 30w), grid_2 (5g, 30w), grid_3 (5g, 30w)]}, {completion : [resume_best_grids (6g, 60w)]}, {StackedEnsemble : [monotonic (9g, 10w), best_of_family_xglm (10g, 10w), all_xglm (10g, 10w)]}]\n",
      "15:34:17.496: Disabling Algo: XGBoost as requested by the user.\n",
      "15:34:17.496: Disabling Algo: StackedEnsemble as requested by the user.\n",
      "15:34:17.496: Disabling Algo: DeepLearning as requested by the user.\n",
      "15:34:17.496: Disabling Algo: GLM as requested by the user.\n",
      "15:34:17.496: AutoML job created: 2025.04.04 15:34:17.494\n",
      "15:34:17.497: AutoML build started: 2025.04.04 15:34:17.497\n",
      "15:34:17.499: AutoML: starting GBM_1_AutoML_2_20250404_153417 model training\n",
      "15:34:17.499: _min_rows param, The dataset size is too small to split for min_rows=100.0: must have at least 200.0 (weighted) rows, but have only 195.0.\n",
      "15:34:17.501: AutoML: starting DRF_1_AutoML_2_20250404_153417 model training\n",
      "\n",
      "\n",
      "15:34:17.718: New leader: DRF_1_AutoML_2_20250404_153417, rmse: 2.5063649596048694\n",
      "15:34:17.718: AutoML: starting GBM_2_AutoML_2_20250404_153417 model training\n",
      "\n",
      "\n",
      "15:34:18.68: New leader: GBM_2_AutoML_2_20250404_153417, rmse: 1.4543224433063435\n",
      "15:34:18.68: AutoML: starting GBM_3_AutoML_2_20250404_153417 model training\n",
      "\n",
      "█\n",
      "15:34:18.263: AutoML: starting GBM_4_AutoML_2_20250404_153417 model training\n",
      "15:34:18.421: New leader: GBM_4_AutoML_2_20250404_153417, rmse: 1.4215501036049414\n",
      "15:34:18.422: AutoML: starting XRT_1_AutoML_2_20250404_153417 model training\n",
      "\n",
      "\n",
      "15:34:18.554: AutoML: starting GBM_5_AutoML_2_20250404_153417 model training\n",
      "\n",
      "███\n",
      "15:34:18.680: AutoML: starting GBM_grid_1_AutoML_2_20250404_153417 hyperparameter search\n",
      "\n",
      "███████████████████████████████████████████████████████████| (done) 100%\n",
      "\n",
      "15:34:19.376: Skipping StackedEnsemble 'monotonic' due to the exclude_algos option or it is already trained.\n",
      "15:34:19.376: Skipping StackedEnsemble 'best_of_family_xglm' due to the exclude_algos option or it is already trained.\n",
      "15:34:19.376: Skipping StackedEnsemble 'all_xglm' due to the exclude_algos option or it is already trained.\n",
      "15:34:19.376: Actual modeling steps: [{DRF : [def_1 (2g, 10w)]}, {GBM : [def_2 (2g, 10w), def_3 (2g, 10w), def_4 (2g, 10w)]}, {DRF : [XRT (3g, 10w)]}, {GBM : [def_1 (3g, 10w), grid_1 (4g, 60w)]}]\n",
      "15:34:19.376: AutoML build stopped: 2025.04.04 15:34:19.376\n",
      "15:34:19.376: AutoML build done: built 10 models\n",
      "15:34:19.376: AutoML duration:  1.879 sec\n",
      "\n"
     ]
    },
    {
     "data": {
      "text/html": [
       "<pre style='margin: 1em 0 1em 0;'>Model Details\n",
       "=============\n",
       "H2OGradientBoostingEstimator : Gradient Boosting Machine\n",
       "Model Key: GBM_4_AutoML_2_20250404_153417\n",
       "</pre>\n",
       "<div style='margin: 1em 0 1em 0;'>\n",
       "<style>\n",
       "\n",
       "#h2o-table-2.h2o-container {\n",
       "  overflow-x: auto;\n",
       "}\n",
       "#h2o-table-2 .h2o-table {\n",
       "  /* width: 100%; */\n",
       "  margin-top: 1em;\n",
       "  margin-bottom: 1em;\n",
       "}\n",
       "#h2o-table-2 .h2o-table caption {\n",
       "  white-space: nowrap;\n",
       "  caption-side: top;\n",
       "  text-align: left;\n",
       "  /* margin-left: 1em; */\n",
       "  margin: 0;\n",
       "  font-size: larger;\n",
       "}\n",
       "#h2o-table-2 .h2o-table thead {\n",
       "  white-space: nowrap; \n",
       "  position: sticky;\n",
       "  top: 0;\n",
       "  box-shadow: 0 -1px inset;\n",
       "}\n",
       "#h2o-table-2 .h2o-table tbody {\n",
       "  overflow: auto;\n",
       "}\n",
       "#h2o-table-2 .h2o-table th,\n",
       "#h2o-table-2 .h2o-table td {\n",
       "  text-align: right;\n",
       "  /* border: 1px solid; */\n",
       "}\n",
       "#h2o-table-2 .h2o-table tr:nth-child(even) {\n",
       "  /* background: #F5F5F5 */\n",
       "}\n",
       "\n",
       "</style>      \n",
       "<div id=\"h2o-table-2\" class=\"h2o-container\">\n",
       "  <table class=\"h2o-table\">\n",
       "    <caption>Model Summary: </caption>\n",
       "    <thead><tr><th></th>\n",
       "<th>number_of_trees</th>\n",
       "<th>number_of_internal_trees</th>\n",
       "<th>model_size_in_bytes</th>\n",
       "<th>min_depth</th>\n",
       "<th>max_depth</th>\n",
       "<th>mean_depth</th>\n",
       "<th>min_leaves</th>\n",
       "<th>max_leaves</th>\n",
       "<th>mean_leaves</th></tr></thead>\n",
       "    <tbody><tr><td></td>\n",
       "<td>97.0</td>\n",
       "<td>97.0</td>\n",
       "<td>20056.0</td>\n",
       "<td>4.0</td>\n",
       "<td>8.0</td>\n",
       "<td>5.6391754</td>\n",
       "<td>10.0</td>\n",
       "<td>14.0</td>\n",
       "<td>11.814433</td></tr></tbody>\n",
       "  </table>\n",
       "</div>\n",
       "</div>\n",
       "<div style='margin: 1em 0 1em 0;'><pre style='margin: 1em 0 1em 0;'>ModelMetricsRegression: gbm\n",
       "** Reported on train data. **\n",
       "\n",
       "MSE: 0.08272248237251635\n",
       "RMSE: 0.28761516366929674\n",
       "MAE: 0.2016550797682542\n",
       "RMSLE: 0.007554125422958733\n",
       "Mean Residual Deviance: 0.08272248237251635</pre></div>\n",
       "<div style='margin: 1em 0 1em 0;'><pre style='margin: 1em 0 1em 0;'>ModelMetricsRegression: gbm\n",
       "** Reported on cross-validation data. **\n",
       "\n",
       "MSE: 2.0208046970592193\n",
       "RMSE: 1.4215501036049414\n",
       "MAE: 1.0133467773521372\n",
       "RMSLE: 0.03907390034950462\n",
       "Mean Residual Deviance: 2.0208046970592193</pre></div>\n",
       "<div style='margin: 1em 0 1em 0;'>\n",
       "<style>\n",
       "\n",
       "#h2o-table-3.h2o-container {\n",
       "  overflow-x: auto;\n",
       "}\n",
       "#h2o-table-3 .h2o-table {\n",
       "  /* width: 100%; */\n",
       "  margin-top: 1em;\n",
       "  margin-bottom: 1em;\n",
       "}\n",
       "#h2o-table-3 .h2o-table caption {\n",
       "  white-space: nowrap;\n",
       "  caption-side: top;\n",
       "  text-align: left;\n",
       "  /* margin-left: 1em; */\n",
       "  margin: 0;\n",
       "  font-size: larger;\n",
       "}\n",
       "#h2o-table-3 .h2o-table thead {\n",
       "  white-space: nowrap; \n",
       "  position: sticky;\n",
       "  top: 0;\n",
       "  box-shadow: 0 -1px inset;\n",
       "}\n",
       "#h2o-table-3 .h2o-table tbody {\n",
       "  overflow: auto;\n",
       "}\n",
       "#h2o-table-3 .h2o-table th,\n",
       "#h2o-table-3 .h2o-table td {\n",
       "  text-align: right;\n",
       "  /* border: 1px solid; */\n",
       "}\n",
       "#h2o-table-3 .h2o-table tr:nth-child(even) {\n",
       "  /* background: #F5F5F5 */\n",
       "}\n",
       "\n",
       "</style>      \n",
       "<div id=\"h2o-table-3\" class=\"h2o-container\">\n",
       "  <table class=\"h2o-table\">\n",
       "    <caption>Cross-Validation Metrics Summary: </caption>\n",
       "    <thead><tr><th></th>\n",
       "<th>mean</th>\n",
       "<th>sd</th>\n",
       "<th>cv_1_valid</th>\n",
       "<th>cv_2_valid</th>\n",
       "<th>cv_3_valid</th>\n",
       "<th>cv_4_valid</th>\n",
       "<th>cv_5_valid</th></tr></thead>\n",
       "    <tbody><tr><td>aic</td>\n",
       "<td>nan</td>\n",
       "<td>0.0</td>\n",
       "<td>nan</td>\n",
       "<td>nan</td>\n",
       "<td>nan</td>\n",
       "<td>nan</td>\n",
       "<td>nan</td></tr>\n",
       "<tr><td>loglikelihood</td>\n",
       "<td>nan</td>\n",
       "<td>0.0</td>\n",
       "<td>nan</td>\n",
       "<td>nan</td>\n",
       "<td>nan</td>\n",
       "<td>nan</td>\n",
       "<td>nan</td></tr>\n",
       "<tr><td>mae</td>\n",
       "<td>1.0133468</td>\n",
       "<td>0.1481941</td>\n",
       "<td>0.8399628</td>\n",
       "<td>0.906888</td>\n",
       "<td>1.0024134</td>\n",
       "<td>1.1137043</td>\n",
       "<td>1.2037655</td></tr>\n",
       "<tr><td>mean_residual_deviance</td>\n",
       "<td>2.0208046</td>\n",
       "<td>0.5498046</td>\n",
       "<td>1.6122147</td>\n",
       "<td>1.5851915</td>\n",
       "<td>1.9337933</td>\n",
       "<td>2.0329342</td>\n",
       "<td>2.93989</td></tr>\n",
       "<tr><td>mse</td>\n",
       "<td>2.0208046</td>\n",
       "<td>0.5498046</td>\n",
       "<td>1.6122147</td>\n",
       "<td>1.5851915</td>\n",
       "<td>1.9337933</td>\n",
       "<td>2.0329342</td>\n",
       "<td>2.93989</td></tr>\n",
       "<tr><td>r2</td>\n",
       "<td>0.9292566</td>\n",
       "<td>0.0110409</td>\n",
       "<td>0.9373581</td>\n",
       "<td>0.9342529</td>\n",
       "<td>0.9348578</td>\n",
       "<td>0.9101397</td>\n",
       "<td>0.9296746</td></tr>\n",
       "<tr><td>residual_deviance</td>\n",
       "<td>2.0208046</td>\n",
       "<td>0.5498046</td>\n",
       "<td>1.6122147</td>\n",
       "<td>1.5851915</td>\n",
       "<td>1.9337933</td>\n",
       "<td>2.0329342</td>\n",
       "<td>2.93989</td></tr>\n",
       "<tr><td>rmse</td>\n",
       "<td>1.4119607</td>\n",
       "<td>0.1842945</td>\n",
       "<td>1.2697302</td>\n",
       "<td>1.2590439</td>\n",
       "<td>1.390609</td>\n",
       "<td>1.42581</td>\n",
       "<td>1.7146107</td></tr>\n",
       "<tr><td>rmsle</td>\n",
       "<td>0.0386912</td>\n",
       "<td>0.0060995</td>\n",
       "<td>0.0333143</td>\n",
       "<td>0.0357043</td>\n",
       "<td>0.0350824</td>\n",
       "<td>0.0410520</td>\n",
       "<td>0.0483029</td></tr></tbody>\n",
       "  </table>\n",
       "</div>\n",
       "</div>\n",
       "<div style='margin: 1em 0 1em 0;'>\n",
       "<style>\n",
       "\n",
       "#h2o-table-4.h2o-container {\n",
       "  overflow-x: auto;\n",
       "}\n",
       "#h2o-table-4 .h2o-table {\n",
       "  /* width: 100%; */\n",
       "  margin-top: 1em;\n",
       "  margin-bottom: 1em;\n",
       "}\n",
       "#h2o-table-4 .h2o-table caption {\n",
       "  white-space: nowrap;\n",
       "  caption-side: top;\n",
       "  text-align: left;\n",
       "  /* margin-left: 1em; */\n",
       "  margin: 0;\n",
       "  font-size: larger;\n",
       "}\n",
       "#h2o-table-4 .h2o-table thead {\n",
       "  white-space: nowrap; \n",
       "  position: sticky;\n",
       "  top: 0;\n",
       "  box-shadow: 0 -1px inset;\n",
       "}\n",
       "#h2o-table-4 .h2o-table tbody {\n",
       "  overflow: auto;\n",
       "}\n",
       "#h2o-table-4 .h2o-table th,\n",
       "#h2o-table-4 .h2o-table td {\n",
       "  text-align: right;\n",
       "  /* border: 1px solid; */\n",
       "}\n",
       "#h2o-table-4 .h2o-table tr:nth-child(even) {\n",
       "  /* background: #F5F5F5 */\n",
       "}\n",
       "\n",
       "</style>      \n",
       "<div id=\"h2o-table-4\" class=\"h2o-container\">\n",
       "  <table class=\"h2o-table\">\n",
       "    <caption>Scoring History: </caption>\n",
       "    <thead><tr><th></th>\n",
       "<th>timestamp</th>\n",
       "<th>duration</th>\n",
       "<th>number_of_trees</th>\n",
       "<th>training_rmse</th>\n",
       "<th>training_mae</th>\n",
       "<th>training_deviance</th></tr></thead>\n",
       "    <tbody><tr><td></td>\n",
       "<td>2025-04-04 15:34:18</td>\n",
       "<td> 0.093 sec</td>\n",
       "<td>0.0</td>\n",
       "<td>5.3936091</td>\n",
       "<td>4.3767521</td>\n",
       "<td>29.0910191</td></tr>\n",
       "<tr><td></td>\n",
       "<td>2025-04-04 15:34:18</td>\n",
       "<td> 0.096 sec</td>\n",
       "<td>5.0</td>\n",
       "<td>3.8187755</td>\n",
       "<td>3.0777107</td>\n",
       "<td>14.5830461</td></tr>\n",
       "<tr><td></td>\n",
       "<td>2025-04-04 15:34:18</td>\n",
       "<td> 0.099 sec</td>\n",
       "<td>10.0</td>\n",
       "<td>2.8374333</td>\n",
       "<td>2.2732345</td>\n",
       "<td>8.0510275</td></tr>\n",
       "<tr><td></td>\n",
       "<td>2025-04-04 15:34:18</td>\n",
       "<td> 0.102 sec</td>\n",
       "<td>15.0</td>\n",
       "<td>2.1374545</td>\n",
       "<td>1.6927574</td>\n",
       "<td>4.5687118</td></tr>\n",
       "<tr><td></td>\n",
       "<td>2025-04-04 15:34:18</td>\n",
       "<td> 0.105 sec</td>\n",
       "<td>20.0</td>\n",
       "<td>1.6323684</td>\n",
       "<td>1.2646683</td>\n",
       "<td>2.6646265</td></tr>\n",
       "<tr><td></td>\n",
       "<td>2025-04-04 15:34:18</td>\n",
       "<td> 0.108 sec</td>\n",
       "<td>25.0</td>\n",
       "<td>1.3019939</td>\n",
       "<td>0.9759893</td>\n",
       "<td>1.6951880</td></tr>\n",
       "<tr><td></td>\n",
       "<td>2025-04-04 15:34:18</td>\n",
       "<td> 0.111 sec</td>\n",
       "<td>30.0</td>\n",
       "<td>1.0581302</td>\n",
       "<td>0.7767110</td>\n",
       "<td>1.1196395</td></tr>\n",
       "<tr><td></td>\n",
       "<td>2025-04-04 15:34:18</td>\n",
       "<td> 0.114 sec</td>\n",
       "<td>35.0</td>\n",
       "<td>0.8936897</td>\n",
       "<td>0.6454841</td>\n",
       "<td>0.7986812</td></tr>\n",
       "<tr><td></td>\n",
       "<td>2025-04-04 15:34:18</td>\n",
       "<td> 0.117 sec</td>\n",
       "<td>40.0</td>\n",
       "<td>0.7520196</td>\n",
       "<td>0.5424378</td>\n",
       "<td>0.5655335</td></tr>\n",
       "<tr><td></td>\n",
       "<td>2025-04-04 15:34:18</td>\n",
       "<td> 0.120 sec</td>\n",
       "<td>45.0</td>\n",
       "<td>0.6525093</td>\n",
       "<td>0.4667069</td>\n",
       "<td>0.4257684</td></tr>\n",
       "<tr><td>---</td>\n",
       "<td>---</td>\n",
       "<td>---</td>\n",
       "<td>---</td>\n",
       "<td>---</td>\n",
       "<td>---</td>\n",
       "<td>---</td></tr>\n",
       "<tr><td></td>\n",
       "<td>2025-04-04 15:34:18</td>\n",
       "<td> 0.127 sec</td>\n",
       "<td>55.0</td>\n",
       "<td>0.5289479</td>\n",
       "<td>0.3804222</td>\n",
       "<td>0.2797859</td></tr>\n",
       "<tr><td></td>\n",
       "<td>2025-04-04 15:34:18</td>\n",
       "<td> 0.130 sec</td>\n",
       "<td>60.0</td>\n",
       "<td>0.4795809</td>\n",
       "<td>0.3429853</td>\n",
       "<td>0.2299978</td></tr>\n",
       "<tr><td></td>\n",
       "<td>2025-04-04 15:34:18</td>\n",
       "<td> 0.133 sec</td>\n",
       "<td>65.0</td>\n",
       "<td>0.4412090</td>\n",
       "<td>0.3157286</td>\n",
       "<td>0.1946654</td></tr>\n",
       "<tr><td></td>\n",
       "<td>2025-04-04 15:34:18</td>\n",
       "<td> 0.136 sec</td>\n",
       "<td>70.0</td>\n",
       "<td>0.4088886</td>\n",
       "<td>0.2943985</td>\n",
       "<td>0.1671899</td></tr>\n",
       "<tr><td></td>\n",
       "<td>2025-04-04 15:34:18</td>\n",
       "<td> 0.141 sec</td>\n",
       "<td>75.0</td>\n",
       "<td>0.3817051</td>\n",
       "<td>0.2733625</td>\n",
       "<td>0.1456988</td></tr>\n",
       "<tr><td></td>\n",
       "<td>2025-04-04 15:34:18</td>\n",
       "<td> 0.144 sec</td>\n",
       "<td>80.0</td>\n",
       "<td>0.3528813</td>\n",
       "<td>0.2516251</td>\n",
       "<td>0.1245252</td></tr>\n",
       "<tr><td></td>\n",
       "<td>2025-04-04 15:34:18</td>\n",
       "<td> 0.147 sec</td>\n",
       "<td>85.0</td>\n",
       "<td>0.3341522</td>\n",
       "<td>0.2376001</td>\n",
       "<td>0.1116577</td></tr>\n",
       "<tr><td></td>\n",
       "<td>2025-04-04 15:34:18</td>\n",
       "<td> 0.150 sec</td>\n",
       "<td>90.0</td>\n",
       "<td>0.3175745</td>\n",
       "<td>0.2234758</td>\n",
       "<td>0.1008535</td></tr>\n",
       "<tr><td></td>\n",
       "<td>2025-04-04 15:34:18</td>\n",
       "<td> 0.153 sec</td>\n",
       "<td>95.0</td>\n",
       "<td>0.2962519</td>\n",
       "<td>0.2080664</td>\n",
       "<td>0.0877652</td></tr>\n",
       "<tr><td></td>\n",
       "<td>2025-04-04 15:34:18</td>\n",
       "<td> 0.155 sec</td>\n",
       "<td>97.0</td>\n",
       "<td>0.2876152</td>\n",
       "<td>0.2016551</td>\n",
       "<td>0.0827225</td></tr></tbody>\n",
       "  </table>\n",
       "</div>\n",
       "<pre style='font-size: smaller; margin-bottom: 1em;'>[21 rows x 7 columns]</pre></div>\n",
       "<div style='margin: 1em 0 1em 0;'>\n",
       "<style>\n",
       "\n",
       "#h2o-table-5.h2o-container {\n",
       "  overflow-x: auto;\n",
       "}\n",
       "#h2o-table-5 .h2o-table {\n",
       "  /* width: 100%; */\n",
       "  margin-top: 1em;\n",
       "  margin-bottom: 1em;\n",
       "}\n",
       "#h2o-table-5 .h2o-table caption {\n",
       "  white-space: nowrap;\n",
       "  caption-side: top;\n",
       "  text-align: left;\n",
       "  /* margin-left: 1em; */\n",
       "  margin: 0;\n",
       "  font-size: larger;\n",
       "}\n",
       "#h2o-table-5 .h2o-table thead {\n",
       "  white-space: nowrap; \n",
       "  position: sticky;\n",
       "  top: 0;\n",
       "  box-shadow: 0 -1px inset;\n",
       "}\n",
       "#h2o-table-5 .h2o-table tbody {\n",
       "  overflow: auto;\n",
       "}\n",
       "#h2o-table-5 .h2o-table th,\n",
       "#h2o-table-5 .h2o-table td {\n",
       "  text-align: right;\n",
       "  /* border: 1px solid; */\n",
       "}\n",
       "#h2o-table-5 .h2o-table tr:nth-child(even) {\n",
       "  /* background: #F5F5F5 */\n",
       "}\n",
       "\n",
       "</style>      \n",
       "<div id=\"h2o-table-5\" class=\"h2o-container\">\n",
       "  <table class=\"h2o-table\">\n",
       "    <caption>Variable Importances: </caption>\n",
       "    <thead><tr><th>variable</th>\n",
       "<th>relative_importance</th>\n",
       "<th>scaled_importance</th>\n",
       "<th>percentage</th></tr></thead>\n",
       "    <tbody><tr><td>team2</td>\n",
       "<td>6122.3715820</td>\n",
       "<td>1.0</td>\n",
       "<td>0.2209948</td></tr>\n",
       "<tr><td>popularity_team1</td>\n",
       "<td>5488.9760742</td>\n",
       "<td>0.8965441</td>\n",
       "<td>0.1981316</td></tr>\n",
       "<tr><td>team1</td>\n",
       "<td>4322.5786133</td>\n",
       "<td>0.7060301</td>\n",
       "<td>0.1560290</td></tr>\n",
       "<tr><td>popularity_team2</td>\n",
       "<td>3422.6708984</td>\n",
       "<td>0.5590433</td>\n",
       "<td>0.1235457</td></tr>\n",
       "<tr><td>days</td>\n",
       "<td>3301.9702148</td>\n",
       "<td>0.5393286</td>\n",
       "<td>0.1191888</td></tr>\n",
       "<tr><td>year</td>\n",
       "<td>2695.3115234</td>\n",
       "<td>0.4402398</td>\n",
       "<td>0.0972907</td></tr>\n",
       "<tr><td>location</td>\n",
       "<td>1452.2921143</td>\n",
       "<td>0.2372107</td>\n",
       "<td>0.0524223</td></tr>\n",
       "<tr><td>sessions</td>\n",
       "<td>897.5134277</td>\n",
       "<td>0.1465957</td>\n",
       "<td>0.0323969</td></tr></tbody>\n",
       "  </table>\n",
       "</div>\n",
       "</div><pre style=\"font-size: smaller; margin: 1em 0 0 0;\">\n",
       "\n",
       "[tips]\n",
       "Use `model.explain()` to inspect the model.\n",
       "--\n",
       "Use `h2o.display.toggle_user_tips()` to switch on/off this section.</pre>"
      ],
      "text/plain": [
       "Model Details\n",
       "=============\n",
       "H2OGradientBoostingEstimator : Gradient Boosting Machine\n",
       "Model Key: GBM_4_AutoML_2_20250404_153417\n",
       "\n",
       "\n",
       "Model Summary: \n",
       "    number_of_trees    number_of_internal_trees    model_size_in_bytes    min_depth    max_depth    mean_depth    min_leaves    max_leaves    mean_leaves\n",
       "--  -----------------  --------------------------  ---------------------  -----------  -----------  ------------  ------------  ------------  -------------\n",
       "    97                 97                          20056                  4            8            5.63918       10            14            11.8144\n",
       "\n",
       "ModelMetricsRegression: gbm\n",
       "** Reported on train data. **\n",
       "\n",
       "MSE: 0.08272248237251635\n",
       "RMSE: 0.28761516366929674\n",
       "MAE: 0.2016550797682542\n",
       "RMSLE: 0.007554125422958733\n",
       "Mean Residual Deviance: 0.08272248237251635\n",
       "\n",
       "ModelMetricsRegression: gbm\n",
       "** Reported on cross-validation data. **\n",
       "\n",
       "MSE: 2.0208046970592193\n",
       "RMSE: 1.4215501036049414\n",
       "MAE: 1.0133467773521372\n",
       "RMSLE: 0.03907390034950462\n",
       "Mean Residual Deviance: 2.0208046970592193\n",
       "\n",
       "Cross-Validation Metrics Summary: \n",
       "                        mean       sd          cv_1_valid    cv_2_valid    cv_3_valid    cv_4_valid    cv_5_valid\n",
       "----------------------  ---------  ----------  ------------  ------------  ------------  ------------  ------------\n",
       "aic                     nan        0           nan           nan           nan           nan           nan\n",
       "loglikelihood           nan        0           nan           nan           nan           nan           nan\n",
       "mae                     1.01335    0.148194    0.839963      0.906888      1.00241       1.1137        1.20377\n",
       "mean_residual_deviance  2.0208     0.549805    1.61221       1.58519       1.93379       2.03293       2.93989\n",
       "mse                     2.0208     0.549805    1.61221       1.58519       1.93379       2.03293       2.93989\n",
       "r2                      0.929257   0.0110409   0.937358      0.934253      0.934858      0.91014       0.929675\n",
       "residual_deviance       2.0208     0.549805    1.61221       1.58519       1.93379       2.03293       2.93989\n",
       "rmse                    1.41196    0.184294    1.26973       1.25904       1.39061       1.42581       1.71461\n",
       "rmsle                   0.0386912  0.00609949  0.0333143     0.0357043     0.0350824     0.041052      0.0483029\n",
       "\n",
       "Scoring History: \n",
       "     timestamp            duration    number_of_trees    training_rmse        training_mae         training_deviance\n",
       "---  -------------------  ----------  -----------------  -------------------  -------------------  -------------------\n",
       "     2025-04-04 15:34:18  0.093 sec   0.0                5.393609094697508    4.376752136752138    29.09101906640367\n",
       "     2025-04-04 15:34:18  0.096 sec   5.0                3.818775472115155    3.077710674970578    14.583046106428325\n",
       "     2025-04-04 15:34:18  0.099 sec   10.0               2.8374332580161505   2.2732345189803684   8.051027493696147\n",
       "     2025-04-04 15:34:18  0.102 sec   15.0               2.137454514955596    1.6927573668651092   4.568711803504061\n",
       "     2025-04-04 15:34:18  0.105 sec   20.0               1.632368356869686    1.2646683032696064   2.6646264525094385\n",
       "     2025-04-04 15:34:18  0.108 sec   25.0               1.30199385923277     0.9759893270639273   1.6951880094798422\n",
       "     2025-04-04 15:34:18  0.111 sec   30.0               1.0581301851524993   0.7767110090989333   1.1196394887308625\n",
       "     2025-04-04 15:34:18  0.114 sec   35.0               0.893689670295217    0.6454840635642027   0.7986812267923736\n",
       "     2025-04-04 15:34:18  0.117 sec   40.0               0.7520195849980074   0.5424377637031751   0.5655334562205752\n",
       "     2025-04-04 15:34:18  0.120 sec   45.0               0.652509291868691    0.4667068579258063   0.4257683759749806\n",
       "---  ---                  ---         ---                ---                  ---                  ---\n",
       "     2025-04-04 15:34:18  0.127 sec   55.0               0.5289479041490716   0.3804221617869842   0.2797858853036954\n",
       "     2025-04-04 15:34:18  0.130 sec   60.0               0.47958089533024617  0.3429852510109926   0.22999783516576056\n",
       "     2025-04-04 15:34:18  0.133 sec   65.0               0.44120897544255777  0.3157285934839493   0.19466536001107157\n",
       "     2025-04-04 15:34:18  0.136 sec   70.0               0.4088886485023026   0.2943984691913311   0.16718992687403955\n",
       "     2025-04-04 15:34:18  0.141 sec   75.0               0.38170506618502287  0.2733625265268179   0.1456987575513127\n",
       "     2025-04-04 15:34:18  0.144 sec   80.0               0.3528812740543582   0.2516250512538812   0.12452519357822707\n",
       "     2025-04-04 15:34:18  0.147 sec   85.0               0.33415216397584346  0.23760006244365986  0.11165766868973898\n",
       "     2025-04-04 15:34:18  0.150 sec   90.0               0.31757447144807244  0.2234757545666817   0.10085354491552258\n",
       "     2025-04-04 15:34:18  0.153 sec   95.0               0.2962519499472644   0.20806642190004007  0.08776521784755646\n",
       "     2025-04-04 15:34:18  0.155 sec   97.0               0.28761516366929674  0.2016550797682542   0.08272248237251635\n",
       "[21 rows x 7 columns]\n",
       "\n",
       "\n",
       "Variable Importances: \n",
       "variable          relative_importance    scaled_importance    percentage\n",
       "----------------  ---------------------  -------------------  ------------\n",
       "team2             6122.37                1                    0.220995\n",
       "popularity_team1  5488.98                0.896544             0.198132\n",
       "team1             4322.58                0.70603              0.156029\n",
       "popularity_team2  3422.67                0.559043             0.123546\n",
       "days              3301.97                0.539329             0.119189\n",
       "year              2695.31                0.44024              0.0972907\n",
       "location          1452.29                0.237211             0.0524223\n",
       "sessions          897.513                0.146596             0.0323969\n",
       "\n",
       "[tips]\n",
       "Use `model.explain()` to inspect the model.\n",
       "--\n",
       "Use `h2o.display.toggle_user_tips()` to switch on/off this section."
      ]
     },
     "execution_count": 23,
     "metadata": {},
     "output_type": "execute_result"
    }
   ],
   "source": [
    "# Train AutoML Model\n",
    "aml = H2OAutoML(max_models=10, seed=42, exclude_algos=[\"StackedEnsemble\", \"DeepLearning\", \"GLM\"], verbosity = \"info\")\n",
    "aml.train(x = X, y = Y, training_frame = pods_train)"
   ]
  },
  {
   "cell_type": "code",
   "execution_count": 24,
   "id": "ca7cbecf-d3b2-4a8c-b953-279484ad2485",
   "metadata": {},
   "outputs": [],
   "source": [
    "lb = aml.leaderboard"
   ]
  },
  {
   "cell_type": "code",
   "execution_count": 25,
   "id": "e9f630bd-64ac-4beb-acf4-167bf6e40993",
   "metadata": {},
   "outputs": [
    {
     "data": {
      "text/html": [
       "<table class='dataframe'>\n",
       "<thead>\n",
       "<tr><th>model_id                                   </th><th style=\"text-align: right;\">   rmse</th><th style=\"text-align: right;\">    mse</th><th style=\"text-align: right;\">    mae</th><th style=\"text-align: right;\">    rmsle</th><th style=\"text-align: right;\">  mean_residual_deviance</th></tr>\n",
       "</thead>\n",
       "<tbody>\n",
       "<tr><td>GBM_4_AutoML_2_20250404_153417             </td><td style=\"text-align: right;\">1.42155</td><td style=\"text-align: right;\">2.0208 </td><td style=\"text-align: right;\">1.01335</td><td style=\"text-align: right;\">0.0390739</td><td style=\"text-align: right;\">                 2.0208 </td></tr>\n",
       "<tr><td>GBM_2_AutoML_2_20250404_153417             </td><td style=\"text-align: right;\">1.45432</td><td style=\"text-align: right;\">2.11505</td><td style=\"text-align: right;\">1.05492</td><td style=\"text-align: right;\">0.0394216</td><td style=\"text-align: right;\">                 2.11505</td></tr>\n",
       "<tr><td>GBM_grid_1_AutoML_2_20250404_153417_model_2</td><td style=\"text-align: right;\">1.45633</td><td style=\"text-align: right;\">2.1209 </td><td style=\"text-align: right;\">1.10194</td><td style=\"text-align: right;\">0.0398793</td><td style=\"text-align: right;\">                 2.1209 </td></tr>\n",
       "<tr><td>GBM_grid_1_AutoML_2_20250404_153417_model_4</td><td style=\"text-align: right;\">1.49023</td><td style=\"text-align: right;\">2.22078</td><td style=\"text-align: right;\">1.11085</td><td style=\"text-align: right;\">0.0403211</td><td style=\"text-align: right;\">                 2.22078</td></tr>\n",
       "<tr><td>GBM_3_AutoML_2_20250404_153417             </td><td style=\"text-align: right;\">1.50678</td><td style=\"text-align: right;\">2.2704 </td><td style=\"text-align: right;\">1.11146</td><td style=\"text-align: right;\">0.0415382</td><td style=\"text-align: right;\">                 2.2704 </td></tr>\n",
       "<tr><td>GBM_grid_1_AutoML_2_20250404_153417_model_1</td><td style=\"text-align: right;\">1.99198</td><td style=\"text-align: right;\">3.968  </td><td style=\"text-align: right;\">1.49541</td><td style=\"text-align: right;\">0.0551912</td><td style=\"text-align: right;\">                 3.968  </td></tr>\n",
       "<tr><td>GBM_grid_1_AutoML_2_20250404_153417_model_3</td><td style=\"text-align: right;\">2.18449</td><td style=\"text-align: right;\">4.77199</td><td style=\"text-align: right;\">1.68619</td><td style=\"text-align: right;\">0.0606668</td><td style=\"text-align: right;\">                 4.77199</td></tr>\n",
       "<tr><td>GBM_5_AutoML_2_20250404_153417             </td><td style=\"text-align: right;\">2.31505</td><td style=\"text-align: right;\">5.35946</td><td style=\"text-align: right;\">1.76653</td><td style=\"text-align: right;\">0.0646864</td><td style=\"text-align: right;\">                 5.35946</td></tr>\n",
       "<tr><td>DRF_1_AutoML_2_20250404_153417             </td><td style=\"text-align: right;\">2.50636</td><td style=\"text-align: right;\">6.28187</td><td style=\"text-align: right;\">1.93644</td><td style=\"text-align: right;\">0.0704506</td><td style=\"text-align: right;\">                 6.28187</td></tr>\n",
       "<tr><td>XRT_1_AutoML_2_20250404_153417             </td><td style=\"text-align: right;\">2.75007</td><td style=\"text-align: right;\">7.56287</td><td style=\"text-align: right;\">2.15187</td><td style=\"text-align: right;\">0.0776284</td><td style=\"text-align: right;\">                 7.56287</td></tr>\n",
       "</tbody>\n",
       "</table><pre style='font-size: smaller; margin-bottom: 1em;'>[10 rows x 6 columns]</pre>"
      ],
      "text/plain": [
       "model_id                                        rmse      mse      mae      rmsle    mean_residual_deviance\n",
       "-------------------------------------------  -------  -------  -------  ---------  ------------------------\n",
       "GBM_4_AutoML_2_20250404_153417               1.42155  2.0208   1.01335  0.0390739                   2.0208\n",
       "GBM_2_AutoML_2_20250404_153417               1.45432  2.11505  1.05492  0.0394216                   2.11505\n",
       "GBM_grid_1_AutoML_2_20250404_153417_model_2  1.45633  2.1209   1.10194  0.0398793                   2.1209\n",
       "GBM_grid_1_AutoML_2_20250404_153417_model_4  1.49023  2.22078  1.11085  0.0403211                   2.22078\n",
       "GBM_3_AutoML_2_20250404_153417               1.50678  2.2704   1.11146  0.0415382                   2.2704\n",
       "GBM_grid_1_AutoML_2_20250404_153417_model_1  1.99198  3.968    1.49541  0.0551912                   3.968\n",
       "GBM_grid_1_AutoML_2_20250404_153417_model_3  2.18449  4.77199  1.68619  0.0606668                   4.77199\n",
       "GBM_5_AutoML_2_20250404_153417               2.31505  5.35946  1.76653  0.0646864                   5.35946\n",
       "DRF_1_AutoML_2_20250404_153417               2.50636  6.28187  1.93644  0.0704506                   6.28187\n",
       "XRT_1_AutoML_2_20250404_153417               2.75007  7.56287  2.15187  0.0776284                   7.56287\n",
       "[10 rows x 6 columns]\n"
      ]
     },
     "execution_count": 25,
     "metadata": {},
     "output_type": "execute_result"
    }
   ],
   "source": [
    "lb"
   ]
  },
  {
   "cell_type": "code",
   "execution_count": 26,
   "id": "a8799872-d0f4-406e-a934-05cbe9dcf147",
   "metadata": {},
   "outputs": [
    {
     "name": "stdout",
     "output_type": "stream",
     "text": [
      "gbm prediction progress: |███████████████████████████████████████████████████████| (done) 100%\n"
     ]
    }
   ],
   "source": [
    "pods_pred = aml.leader.predict(pods_test)"
   ]
  },
  {
   "cell_type": "code",
   "execution_count": 32,
   "id": "dbdf9f52-e8a9-43f0-9c52-7e76e6f0b8e8",
   "metadata": {
    "scrolled": true
   },
   "outputs": [
    {
     "data": {
      "text/html": [
       "<table class='dataframe'>\n",
       "<thead>\n",
       "<tr><th>team1  </th><th>team2  </th><th>days     </th><th>sessions  </th><th style=\"text-align: right;\">  year</th><th>location  </th><th style=\"text-align: right;\">  popularity_team1</th><th style=\"text-align: right;\">  popularity_team2</th><th style=\"text-align: right;\">  pods_required</th></tr>\n",
       "</thead>\n",
       "<tbody>\n",
       "<tr><td>CSK    </td><td>GT     </td><td>Thursday </td><td>Evening   </td><td style=\"text-align: right;\">  2021</td><td>Bangalore </td><td style=\"text-align: right;\">                 9</td><td style=\"text-align: right;\">                 8</td><td style=\"text-align: right;\">             37</td></tr>\n",
       "<tr><td>DC     </td><td>GT     </td><td>Thursday </td><td>Evening   </td><td style=\"text-align: right;\">  2021</td><td>Delhi     </td><td style=\"text-align: right;\">                 6</td><td style=\"text-align: right;\">                 8</td><td style=\"text-align: right;\">             30</td></tr>\n",
       "<tr><td>LSG    </td><td>RR     </td><td>Monday   </td><td>Afternoon </td><td style=\"text-align: right;\">  2023</td><td>Ahmedabad </td><td style=\"text-align: right;\">                 7</td><td style=\"text-align: right;\">                 6</td><td style=\"text-align: right;\">             28</td></tr>\n",
       "<tr><td>RCB    </td><td>RR     </td><td>Monday   </td><td>Evening   </td><td style=\"text-align: right;\">  2023</td><td>Chandigarh</td><td style=\"text-align: right;\">                 8</td><td style=\"text-align: right;\">                 6</td><td style=\"text-align: right;\">             33</td></tr>\n",
       "<tr><td>LSG    </td><td>MI     </td><td>Sunday   </td><td>Afternoon </td><td style=\"text-align: right;\">  2022</td><td>Chennai   </td><td style=\"text-align: right;\">                 7</td><td style=\"text-align: right;\">                10</td><td style=\"text-align: right;\">             42</td></tr>\n",
       "<tr><td>KKR    </td><td>GT     </td><td>Friday   </td><td>Evening   </td><td style=\"text-align: right;\">  2021</td><td>Delhi     </td><td style=\"text-align: right;\">                 7</td><td style=\"text-align: right;\">                 8</td><td style=\"text-align: right;\">             33</td></tr>\n",
       "<tr><td>GT     </td><td>DC     </td><td>Wednesday</td><td>Evening   </td><td style=\"text-align: right;\">  2024</td><td>Lucknow   </td><td style=\"text-align: right;\">                 8</td><td style=\"text-align: right;\">                 6</td><td style=\"text-align: right;\">             35</td></tr>\n",
       "<tr><td>KKR    </td><td>CSK    </td><td>Thursday </td><td>Afternoon </td><td style=\"text-align: right;\">  2021</td><td>Kolkata   </td><td style=\"text-align: right;\">                 7</td><td style=\"text-align: right;\">                 9</td><td style=\"text-align: right;\">             32</td></tr>\n",
       "<tr><td>DC     </td><td>LSG    </td><td>Wednesday</td><td>Evening   </td><td style=\"text-align: right;\">  2022</td><td>Delhi     </td><td style=\"text-align: right;\">                 6</td><td style=\"text-align: right;\">                 7</td><td style=\"text-align: right;\">             30</td></tr>\n",
       "<tr><td>RCB    </td><td>GT     </td><td>Wednesday</td><td>Evening   </td><td style=\"text-align: right;\">  2022</td><td>Jaipur    </td><td style=\"text-align: right;\">                 8</td><td style=\"text-align: right;\">                 8</td><td style=\"text-align: right;\">             36</td></tr>\n",
       "</tbody>\n",
       "</table><pre style='font-size: smaller; margin-bottom: 1em;'>[10 rows x 9 columns]</pre>"
      ],
      "text/plain": [
       "team1    team2    days       sessions      year  location      popularity_team1    popularity_team2    pods_required\n",
       "-------  -------  ---------  ----------  ------  ----------  ------------------  ------------------  ---------------\n",
       "CSK      GT       Thursday   Evening       2021  Bangalore                    9                   8               37\n",
       "DC       GT       Thursday   Evening       2021  Delhi                        6                   8               30\n",
       "LSG      RR       Monday     Afternoon     2023  Ahmedabad                    7                   6               28\n",
       "RCB      RR       Monday     Evening       2023  Chandigarh                   8                   6               33\n",
       "LSG      MI       Sunday     Afternoon     2022  Chennai                      7                  10               42\n",
       "KKR      GT       Friday     Evening       2021  Delhi                        7                   8               33\n",
       "GT       DC       Wednesday  Evening       2024  Lucknow                      8                   6               35\n",
       "KKR      CSK      Thursday   Afternoon     2021  Kolkata                      7                   9               32\n",
       "DC       LSG      Wednesday  Evening       2022  Delhi                        6                   7               30\n",
       "RCB      GT       Wednesday  Evening       2022  Jaipur                       8                   8               36\n",
       "[10 rows x 9 columns]\n"
      ]
     },
     "execution_count": 32,
     "metadata": {},
     "output_type": "execute_result"
    }
   ],
   "source": [
    "pods_test.head()"
   ]
  },
  {
   "cell_type": "code",
   "execution_count": 31,
   "id": "fceb95ed-9337-48ad-b8ef-08a7bd9b2ed6",
   "metadata": {},
   "outputs": [
    {
     "data": {
      "text/html": [
       "<table class='dataframe'>\n",
       "<thead>\n",
       "<tr><th style=\"text-align: right;\">  predict</th></tr>\n",
       "</thead>\n",
       "<tbody>\n",
       "<tr><td style=\"text-align: right;\">  38.4802</td></tr>\n",
       "<tr><td style=\"text-align: right;\">  30.3355</td></tr>\n",
       "<tr><td style=\"text-align: right;\">  29.6605</td></tr>\n",
       "<tr><td style=\"text-align: right;\">  33.0145</td></tr>\n",
       "<tr><td style=\"text-align: right;\">  39.9625</td></tr>\n",
       "<tr><td style=\"text-align: right;\">  33.875 </td></tr>\n",
       "<tr><td style=\"text-align: right;\">  33.5146</td></tr>\n",
       "<tr><td style=\"text-align: right;\">  34.7379</td></tr>\n",
       "<tr><td style=\"text-align: right;\">  28.5269</td></tr>\n",
       "<tr><td style=\"text-align: right;\">  36.3392</td></tr>\n",
       "</tbody>\n",
       "</table><pre style='font-size: smaller; margin-bottom: 1em;'>[10 rows x 1 column]</pre>"
      ],
      "text/plain": [
       "  predict\n",
       "---------\n",
       "  38.4802\n",
       "  30.3355\n",
       "  29.6605\n",
       "  33.0145\n",
       "  39.9625\n",
       "  33.875\n",
       "  33.5146\n",
       "  34.7379\n",
       "  28.5269\n",
       "  36.3392\n",
       "[10 rows x 1 column]\n"
      ]
     },
     "execution_count": 31,
     "metadata": {},
     "output_type": "execute_result"
    }
   ],
   "source": [
    "pods_pred.head()"
   ]
  },
  {
   "cell_type": "code",
   "execution_count": 28,
   "id": "1c9b14ea-9127-47f5-b6c2-4b1ab1515111",
   "metadata": {},
   "outputs": [
    {
     "data": {
      "text/html": [
       "<pre style='margin: 1em 0 1em 0;'>ModelMetricsRegression: gbm\n",
       "** Reported on test data. **\n",
       "\n",
       "MSE: 2.344553093478219\n",
       "RMSE: 1.531193356006425\n",
       "MAE: 1.2627683278549142\n",
       "RMSLE: 0.04249294941242928\n",
       "Mean Residual Deviance: 2.344553093478219</pre>"
      ],
      "text/plain": [
       "ModelMetricsRegression: gbm\n",
       "** Reported on test data. **\n",
       "\n",
       "MSE: 2.344553093478219\n",
       "RMSE: 1.531193356006425\n",
       "MAE: 1.2627683278549142\n",
       "RMSLE: 0.04249294941242928\n",
       "Mean Residual Deviance: 2.344553093478219"
      ]
     },
     "execution_count": 28,
     "metadata": {},
     "output_type": "execute_result"
    }
   ],
   "source": [
    "aml.leader.model_performance(pods_test)"
   ]
  },
  {
   "cell_type": "code",
   "execution_count": 29,
   "id": "19e909c3-eafb-4d88-9f8e-19caaa8357bd",
   "metadata": {},
   "outputs": [],
   "source": [
    "r2 = aml.leader.model_performance(pods_test).r2()"
   ]
  },
  {
   "cell_type": "code",
   "execution_count": 30,
   "id": "3e987e84-ee4c-488b-a935-8297165f5861",
   "metadata": {},
   "outputs": [
    {
     "name": "stdout",
     "output_type": "stream",
     "text": [
      "R² Score: 92.19%\n"
     ]
    }
   ],
   "source": [
    "print(f\"R² Score: {r2:.2%}\")"
   ]
  },
  {
   "cell_type": "code",
   "execution_count": 43,
   "id": "873208ee-0ac7-4298-a980-5c468b8e0e8c",
   "metadata": {},
   "outputs": [],
   "source": [
    "pods_test_X = pods_test.drop([\"pods_required\"])"
   ]
  },
  {
   "cell_type": "code",
   "execution_count": 44,
   "id": "acf3c75c-ff13-4aa2-a9be-15cee5d85e00",
   "metadata": {},
   "outputs": [
    {
     "name": "stdout",
     "output_type": "stream",
     "text": [
      "gbm prediction progress: |███████████████████████████████████████████████████████| (done) 100%\n"
     ]
    }
   ],
   "source": [
    "# Predict using only independent features\n",
    "pods_pred = aml.leader.predict(pods_test_X)"
   ]
  },
  {
   "cell_type": "code",
   "execution_count": 60,
   "id": "36bbf371-eed9-4392-b6b9-b74de6ff5ebd",
   "metadata": {},
   "outputs": [
    {
     "data": {
      "text/html": [
       "<table class='dataframe'>\n",
       "<thead>\n",
       "<tr><th style=\"text-align: right;\">  predict</th></tr>\n",
       "</thead>\n",
       "<tbody>\n",
       "<tr><td style=\"text-align: right;\">  38.4802</td></tr>\n",
       "<tr><td style=\"text-align: right;\">  30.3355</td></tr>\n",
       "<tr><td style=\"text-align: right;\">  29.6605</td></tr>\n",
       "<tr><td style=\"text-align: right;\">  33.0145</td></tr>\n",
       "<tr><td style=\"text-align: right;\">  39.9625</td></tr>\n",
       "<tr><td style=\"text-align: right;\">  33.875 </td></tr>\n",
       "<tr><td style=\"text-align: right;\">  33.5146</td></tr>\n",
       "<tr><td style=\"text-align: right;\">  34.7379</td></tr>\n",
       "<tr><td style=\"text-align: right;\">  28.5269</td></tr>\n",
       "<tr><td style=\"text-align: right;\">  36.3392</td></tr>\n",
       "</tbody>\n",
       "</table><pre style='font-size: smaller; margin-bottom: 1em;'>[10 rows x 1 column]</pre>"
      ],
      "text/plain": [
       "  predict\n",
       "---------\n",
       "  38.4802\n",
       "  30.3355\n",
       "  29.6605\n",
       "  33.0145\n",
       "  39.9625\n",
       "  33.875\n",
       "  33.5146\n",
       "  34.7379\n",
       "  28.5269\n",
       "  36.3392\n",
       "[10 rows x 1 column]\n"
      ]
     },
     "execution_count": 60,
     "metadata": {},
     "output_type": "execute_result"
    }
   ],
   "source": [
    "# Predict using only independent features\n",
    "pods_pred.head()"
   ]
  },
  {
   "cell_type": "code",
   "execution_count": 61,
   "id": "1772f4be-4344-47ab-8d78-466e33d63032",
   "metadata": {},
   "outputs": [
    {
     "data": {
      "text/html": [
       "<table class='dataframe'>\n",
       "<thead>\n",
       "<tr><th>team1  </th><th>team2  </th><th>days     </th><th>sessions  </th><th style=\"text-align: right;\">  year</th><th>location  </th><th style=\"text-align: right;\">  popularity_team1</th><th style=\"text-align: right;\">  popularity_team2</th><th style=\"text-align: right;\">  pods_required</th></tr>\n",
       "</thead>\n",
       "<tbody>\n",
       "<tr><td>CSK    </td><td>GT     </td><td>Thursday </td><td>Evening   </td><td style=\"text-align: right;\">  2021</td><td>Bangalore </td><td style=\"text-align: right;\">                 9</td><td style=\"text-align: right;\">                 8</td><td style=\"text-align: right;\">             37</td></tr>\n",
       "<tr><td>DC     </td><td>GT     </td><td>Thursday </td><td>Evening   </td><td style=\"text-align: right;\">  2021</td><td>Delhi     </td><td style=\"text-align: right;\">                 6</td><td style=\"text-align: right;\">                 8</td><td style=\"text-align: right;\">             30</td></tr>\n",
       "<tr><td>LSG    </td><td>RR     </td><td>Monday   </td><td>Afternoon </td><td style=\"text-align: right;\">  2023</td><td>Ahmedabad </td><td style=\"text-align: right;\">                 7</td><td style=\"text-align: right;\">                 6</td><td style=\"text-align: right;\">             28</td></tr>\n",
       "<tr><td>RCB    </td><td>RR     </td><td>Monday   </td><td>Evening   </td><td style=\"text-align: right;\">  2023</td><td>Chandigarh</td><td style=\"text-align: right;\">                 8</td><td style=\"text-align: right;\">                 6</td><td style=\"text-align: right;\">             33</td></tr>\n",
       "<tr><td>LSG    </td><td>MI     </td><td>Sunday   </td><td>Afternoon </td><td style=\"text-align: right;\">  2022</td><td>Chennai   </td><td style=\"text-align: right;\">                 7</td><td style=\"text-align: right;\">                10</td><td style=\"text-align: right;\">             42</td></tr>\n",
       "<tr><td>KKR    </td><td>GT     </td><td>Friday   </td><td>Evening   </td><td style=\"text-align: right;\">  2021</td><td>Delhi     </td><td style=\"text-align: right;\">                 7</td><td style=\"text-align: right;\">                 8</td><td style=\"text-align: right;\">             33</td></tr>\n",
       "<tr><td>GT     </td><td>DC     </td><td>Wednesday</td><td>Evening   </td><td style=\"text-align: right;\">  2024</td><td>Lucknow   </td><td style=\"text-align: right;\">                 8</td><td style=\"text-align: right;\">                 6</td><td style=\"text-align: right;\">             35</td></tr>\n",
       "<tr><td>KKR    </td><td>CSK    </td><td>Thursday </td><td>Afternoon </td><td style=\"text-align: right;\">  2021</td><td>Kolkata   </td><td style=\"text-align: right;\">                 7</td><td style=\"text-align: right;\">                 9</td><td style=\"text-align: right;\">             32</td></tr>\n",
       "<tr><td>DC     </td><td>LSG    </td><td>Wednesday</td><td>Evening   </td><td style=\"text-align: right;\">  2022</td><td>Delhi     </td><td style=\"text-align: right;\">                 6</td><td style=\"text-align: right;\">                 7</td><td style=\"text-align: right;\">             30</td></tr>\n",
       "<tr><td>RCB    </td><td>GT     </td><td>Wednesday</td><td>Evening   </td><td style=\"text-align: right;\">  2022</td><td>Jaipur    </td><td style=\"text-align: right;\">                 8</td><td style=\"text-align: right;\">                 8</td><td style=\"text-align: right;\">             36</td></tr>\n",
       "</tbody>\n",
       "</table><pre style='font-size: smaller; margin-bottom: 1em;'>[10 rows x 9 columns]</pre>"
      ],
      "text/plain": [
       "team1    team2    days       sessions      year  location      popularity_team1    popularity_team2    pods_required\n",
       "-------  -------  ---------  ----------  ------  ----------  ------------------  ------------------  ---------------\n",
       "CSK      GT       Thursday   Evening       2021  Bangalore                    9                   8               37\n",
       "DC       GT       Thursday   Evening       2021  Delhi                        6                   8               30\n",
       "LSG      RR       Monday     Afternoon     2023  Ahmedabad                    7                   6               28\n",
       "RCB      RR       Monday     Evening       2023  Chandigarh                   8                   6               33\n",
       "LSG      MI       Sunday     Afternoon     2022  Chennai                      7                  10               42\n",
       "KKR      GT       Friday     Evening       2021  Delhi                        7                   8               33\n",
       "GT       DC       Wednesday  Evening       2024  Lucknow                      8                   6               35\n",
       "KKR      CSK      Thursday   Afternoon     2021  Kolkata                      7                   9               32\n",
       "DC       LSG      Wednesday  Evening       2022  Delhi                        6                   7               30\n",
       "RCB      GT       Wednesday  Evening       2022  Jaipur                       8                   8               36\n",
       "[10 rows x 9 columns]\n"
      ]
     },
     "execution_count": 61,
     "metadata": {},
     "output_type": "execute_result"
    }
   ],
   "source": [
    "# Predict using only independent features\n",
    "pods_test.head()"
   ]
  },
  {
   "cell_type": "code",
   "execution_count": 33,
   "id": "c0d38dc5-fa0d-4dd5-9966-424b0ba1ffec",
   "metadata": {},
   "outputs": [
    {
     "name": "stdout",
     "output_type": "stream",
     "text": [
      "Parse progress: |████████████████████████████████████████████████████████████████| (done) 100%\n"
     ]
    }
   ],
   "source": [
    "current_data = h2o.import_file('/Users/deepakagrawal/AI Hackathon/ipl_test_data.csv')"
   ]
  },
  {
   "cell_type": "code",
   "execution_count": 35,
   "id": "6619df4b-b47a-4448-8866-da9213545e88",
   "metadata": {},
   "outputs": [],
   "source": [
    "h2o_current = h2o.H2OFrame(current_data)"
   ]
  },
  {
   "cell_type": "code",
   "execution_count": 39,
   "id": "c620246d-361c-4f51-b184-db90604ec4d6",
   "metadata": {},
   "outputs": [
    {
     "data": {
      "text/plain": [
       "{'team1': 'enum',\n",
       " 'team2': 'enum',\n",
       " 'days': 'enum',\n",
       " 'sessions': 'enum',\n",
       " 'year': 'int',\n",
       " 'location': 'enum',\n",
       " 'popularity_team1': 'int',\n",
       " 'popularity_team2': 'int',\n",
       " 'pods_required': 'int'}"
      ]
     },
     "execution_count": 39,
     "metadata": {},
     "output_type": "execute_result"
    }
   ],
   "source": [
    "h2o_current.types"
   ]
  },
  {
   "cell_type": "code",
   "execution_count": 40,
   "id": "bdfb8189-8055-4c52-9c0b-fd8aac17f3b8",
   "metadata": {},
   "outputs": [
    {
     "data": {
      "text/html": [
       "<table class='dataframe'>\n",
       "<thead>\n",
       "<tr><th>team1  </th><th>team2  </th><th>days     </th><th>sessions  </th><th style=\"text-align: right;\">  year</th><th>location  </th><th style=\"text-align: right;\">  popularity_team1</th><th style=\"text-align: right;\">  popularity_team2</th><th style=\"text-align: right;\">  pods_required</th></tr>\n",
       "</thead>\n",
       "<tbody>\n",
       "<tr><td>RCB    </td><td>RR     </td><td>Thursday </td><td>Afternoon </td><td style=\"text-align: right;\">  2025</td><td>Jaipur    </td><td style=\"text-align: right;\">                 8</td><td style=\"text-align: right;\">                 6</td><td style=\"text-align: right;\">             33</td></tr>\n",
       "<tr><td>MI     </td><td>SRH    </td><td>Thursday </td><td>Evening   </td><td style=\"text-align: right;\">  2025</td><td>Chennai   </td><td style=\"text-align: right;\">                10</td><td style=\"text-align: right;\">                 7</td><td style=\"text-align: right;\">             44</td></tr>\n",
       "<tr><td>PBKS   </td><td>KKR    </td><td>Tuesday  </td><td>Afternoon </td><td style=\"text-align: right;\">  2025</td><td>Bangalore </td><td style=\"text-align: right;\">                 5</td><td style=\"text-align: right;\">                 7</td><td style=\"text-align: right;\">             28</td></tr>\n",
       "<tr><td>DC     </td><td>LSG    </td><td>Friday   </td><td>Evening   </td><td style=\"text-align: right;\">  2025</td><td>Chennai   </td><td style=\"text-align: right;\">                 6</td><td style=\"text-align: right;\">                 7</td><td style=\"text-align: right;\">             34</td></tr>\n",
       "<tr><td>RR     </td><td>SRH    </td><td>Friday   </td><td>Evening   </td><td style=\"text-align: right;\">  2025</td><td>Lucknow   </td><td style=\"text-align: right;\">                 6</td><td style=\"text-align: right;\">                 7</td><td style=\"text-align: right;\">             34</td></tr>\n",
       "<tr><td>DC     </td><td>KKR    </td><td>Tuesday  </td><td>Evening   </td><td style=\"text-align: right;\">  2025</td><td>Jaipur    </td><td style=\"text-align: right;\">                 6</td><td style=\"text-align: right;\">                 7</td><td style=\"text-align: right;\">             34</td></tr>\n",
       "<tr><td>RR     </td><td>KKR    </td><td>Tuesday  </td><td>Evening   </td><td style=\"text-align: right;\">  2025</td><td>Mumbai    </td><td style=\"text-align: right;\">                 6</td><td style=\"text-align: right;\">                 7</td><td style=\"text-align: right;\">             34</td></tr>\n",
       "<tr><td>PBKS   </td><td>SRH    </td><td>Wednesday</td><td>Evening   </td><td style=\"text-align: right;\">  2025</td><td>Lucknow   </td><td style=\"text-align: right;\">                 5</td><td style=\"text-align: right;\">                 7</td><td style=\"text-align: right;\">             31</td></tr>\n",
       "<tr><td>MI     </td><td>RR     </td><td>Friday   </td><td>Afternoon </td><td style=\"text-align: right;\">  2025</td><td>Bangalore </td><td style=\"text-align: right;\">                10</td><td style=\"text-align: right;\">                 6</td><td style=\"text-align: right;\">             38</td></tr>\n",
       "<tr><td>PBKS   </td><td>LSG    </td><td>Saturday </td><td>Evening   </td><td style=\"text-align: right;\">  2025</td><td>Kolkata   </td><td style=\"text-align: right;\">                 5</td><td style=\"text-align: right;\">                 7</td><td style=\"text-align: right;\">             34</td></tr>\n",
       "</tbody>\n",
       "</table><pre style='font-size: smaller; margin-bottom: 1em;'>[10 rows x 9 columns]</pre>"
      ],
      "text/plain": [
       "team1    team2    days       sessions      year  location      popularity_team1    popularity_team2    pods_required\n",
       "-------  -------  ---------  ----------  ------  ----------  ------------------  ------------------  ---------------\n",
       "RCB      RR       Thursday   Afternoon     2025  Jaipur                       8                   6               33\n",
       "MI       SRH      Thursday   Evening       2025  Chennai                     10                   7               44\n",
       "PBKS     KKR      Tuesday    Afternoon     2025  Bangalore                    5                   7               28\n",
       "DC       LSG      Friday     Evening       2025  Chennai                      6                   7               34\n",
       "RR       SRH      Friday     Evening       2025  Lucknow                      6                   7               34\n",
       "DC       KKR      Tuesday    Evening       2025  Jaipur                       6                   7               34\n",
       "RR       KKR      Tuesday    Evening       2025  Mumbai                       6                   7               34\n",
       "PBKS     SRH      Wednesday  Evening       2025  Lucknow                      5                   7               31\n",
       "MI       RR       Friday     Afternoon     2025  Bangalore                   10                   6               38\n",
       "PBKS     LSG      Saturday   Evening       2025  Kolkata                      5                   7               34\n",
       "[10 rows x 9 columns]\n"
      ]
     },
     "execution_count": 40,
     "metadata": {},
     "output_type": "execute_result"
    }
   ],
   "source": [
    "h2o_current.head()"
   ]
  },
  {
   "cell_type": "code",
   "execution_count": 46,
   "id": "84a01b00-7955-480a-b710-4e16ec88bda8",
   "metadata": {},
   "outputs": [],
   "source": [
    "h2o_current_without_pods = h2o_current.drop([\"pods_required\"])"
   ]
  },
  {
   "cell_type": "code",
   "execution_count": 47,
   "id": "82df06d7-25d4-47ee-9014-d682d0ad84b7",
   "metadata": {},
   "outputs": [
    {
     "data": {
      "text/html": [
       "<table class='dataframe'>\n",
       "<thead>\n",
       "<tr><th>team1  </th><th>team2  </th><th>days     </th><th>sessions  </th><th style=\"text-align: right;\">  year</th><th>location  </th><th style=\"text-align: right;\">  popularity_team1</th><th style=\"text-align: right;\">  popularity_team2</th></tr>\n",
       "</thead>\n",
       "<tbody>\n",
       "<tr><td>RCB    </td><td>RR     </td><td>Thursday </td><td>Afternoon </td><td style=\"text-align: right;\">  2025</td><td>Jaipur    </td><td style=\"text-align: right;\">                 8</td><td style=\"text-align: right;\">                 6</td></tr>\n",
       "<tr><td>MI     </td><td>SRH    </td><td>Thursday </td><td>Evening   </td><td style=\"text-align: right;\">  2025</td><td>Chennai   </td><td style=\"text-align: right;\">                10</td><td style=\"text-align: right;\">                 7</td></tr>\n",
       "<tr><td>PBKS   </td><td>KKR    </td><td>Tuesday  </td><td>Afternoon </td><td style=\"text-align: right;\">  2025</td><td>Bangalore </td><td style=\"text-align: right;\">                 5</td><td style=\"text-align: right;\">                 7</td></tr>\n",
       "<tr><td>DC     </td><td>LSG    </td><td>Friday   </td><td>Evening   </td><td style=\"text-align: right;\">  2025</td><td>Chennai   </td><td style=\"text-align: right;\">                 6</td><td style=\"text-align: right;\">                 7</td></tr>\n",
       "<tr><td>RR     </td><td>SRH    </td><td>Friday   </td><td>Evening   </td><td style=\"text-align: right;\">  2025</td><td>Lucknow   </td><td style=\"text-align: right;\">                 6</td><td style=\"text-align: right;\">                 7</td></tr>\n",
       "<tr><td>DC     </td><td>KKR    </td><td>Tuesday  </td><td>Evening   </td><td style=\"text-align: right;\">  2025</td><td>Jaipur    </td><td style=\"text-align: right;\">                 6</td><td style=\"text-align: right;\">                 7</td></tr>\n",
       "<tr><td>RR     </td><td>KKR    </td><td>Tuesday  </td><td>Evening   </td><td style=\"text-align: right;\">  2025</td><td>Mumbai    </td><td style=\"text-align: right;\">                 6</td><td style=\"text-align: right;\">                 7</td></tr>\n",
       "<tr><td>PBKS   </td><td>SRH    </td><td>Wednesday</td><td>Evening   </td><td style=\"text-align: right;\">  2025</td><td>Lucknow   </td><td style=\"text-align: right;\">                 5</td><td style=\"text-align: right;\">                 7</td></tr>\n",
       "<tr><td>MI     </td><td>RR     </td><td>Friday   </td><td>Afternoon </td><td style=\"text-align: right;\">  2025</td><td>Bangalore </td><td style=\"text-align: right;\">                10</td><td style=\"text-align: right;\">                 6</td></tr>\n",
       "<tr><td>PBKS   </td><td>LSG    </td><td>Saturday </td><td>Evening   </td><td style=\"text-align: right;\">  2025</td><td>Kolkata   </td><td style=\"text-align: right;\">                 5</td><td style=\"text-align: right;\">                 7</td></tr>\n",
       "</tbody>\n",
       "</table><pre style='font-size: smaller; margin-bottom: 1em;'>[10 rows x 8 columns]</pre>"
      ],
      "text/plain": [
       "team1    team2    days       sessions      year  location      popularity_team1    popularity_team2\n",
       "-------  -------  ---------  ----------  ------  ----------  ------------------  ------------------\n",
       "RCB      RR       Thursday   Afternoon     2025  Jaipur                       8                   6\n",
       "MI       SRH      Thursday   Evening       2025  Chennai                     10                   7\n",
       "PBKS     KKR      Tuesday    Afternoon     2025  Bangalore                    5                   7\n",
       "DC       LSG      Friday     Evening       2025  Chennai                      6                   7\n",
       "RR       SRH      Friday     Evening       2025  Lucknow                      6                   7\n",
       "DC       KKR      Tuesday    Evening       2025  Jaipur                       6                   7\n",
       "RR       KKR      Tuesday    Evening       2025  Mumbai                       6                   7\n",
       "PBKS     SRH      Wednesday  Evening       2025  Lucknow                      5                   7\n",
       "MI       RR       Friday     Afternoon     2025  Bangalore                   10                   6\n",
       "PBKS     LSG      Saturday   Evening       2025  Kolkata                      5                   7\n",
       "[10 rows x 8 columns]\n"
      ]
     },
     "execution_count": 47,
     "metadata": {},
     "output_type": "execute_result"
    }
   ],
   "source": [
    "h2o_current_without_pods.head()"
   ]
  },
  {
   "cell_type": "code",
   "execution_count": 53,
   "id": "a448bd49-4675-46ec-9cea-eed768d86478",
   "metadata": {},
   "outputs": [
    {
     "name": "stdout",
     "output_type": "stream",
     "text": [
      "gbm prediction progress: |███████████████████████████████████████████████████████| (done) 100%\n"
     ]
    }
   ],
   "source": [
    "current_pods_pred = aml.leader.predict(h2o_current)"
   ]
  },
  {
   "cell_type": "code",
   "execution_count": 58,
   "id": "e8be1a76-b68a-4399-acba-d456677d866f",
   "metadata": {},
   "outputs": [
    {
     "data": {
      "text/html": [
       "<table class='dataframe'>\n",
       "<thead>\n",
       "<tr><th style=\"text-align: right;\">  predict</th></tr>\n",
       "</thead>\n",
       "<tbody>\n",
       "<tr><td style=\"text-align: right;\">  32.6288</td></tr>\n",
       "<tr><td style=\"text-align: right;\">  40.5873</td></tr>\n",
       "<tr><td style=\"text-align: right;\">  29.5339</td></tr>\n",
       "<tr><td style=\"text-align: right;\">  31.7667</td></tr>\n",
       "<tr><td style=\"text-align: right;\">  32.5352</td></tr>\n",
       "<tr><td style=\"text-align: right;\">  33.7843</td></tr>\n",
       "<tr><td style=\"text-align: right;\">  32.7864</td></tr>\n",
       "<tr><td style=\"text-align: right;\">  30.5237</td></tr>\n",
       "<tr><td style=\"text-align: right;\">  35.8444</td></tr>\n",
       "<tr><td style=\"text-align: right;\">  36.1823</td></tr>\n",
       "</tbody>\n",
       "</table><pre style='font-size: smaller; margin-bottom: 1em;'>[10 rows x 1 column]</pre>"
      ],
      "text/plain": [
       "  predict\n",
       "---------\n",
       "  32.6288\n",
       "  40.5873\n",
       "  29.5339\n",
       "  31.7667\n",
       "  32.5352\n",
       "  33.7843\n",
       "  32.7864\n",
       "  30.5237\n",
       "  35.8444\n",
       "  36.1823\n",
       "[10 rows x 1 column]\n"
      ]
     },
     "execution_count": 58,
     "metadata": {},
     "output_type": "execute_result"
    }
   ],
   "source": [
    "current_pods_pred.head()"
   ]
  },
  {
   "cell_type": "code",
   "execution_count": 59,
   "id": "3b9f8eae-d63a-4113-a1b9-5064fda7ef3d",
   "metadata": {},
   "outputs": [
    {
     "data": {
      "text/html": [
       "<table class='dataframe'>\n",
       "<thead>\n",
       "<tr><th>team1  </th><th>team2  </th><th>days     </th><th>sessions  </th><th style=\"text-align: right;\">  year</th><th>location  </th><th style=\"text-align: right;\">  popularity_team1</th><th style=\"text-align: right;\">  popularity_team2</th><th style=\"text-align: right;\">  pods_required</th></tr>\n",
       "</thead>\n",
       "<tbody>\n",
       "<tr><td>RCB    </td><td>RR     </td><td>Thursday </td><td>Afternoon </td><td style=\"text-align: right;\">  2025</td><td>Jaipur    </td><td style=\"text-align: right;\">                 8</td><td style=\"text-align: right;\">                 6</td><td style=\"text-align: right;\">             33</td></tr>\n",
       "<tr><td>MI     </td><td>SRH    </td><td>Thursday </td><td>Evening   </td><td style=\"text-align: right;\">  2025</td><td>Chennai   </td><td style=\"text-align: right;\">                10</td><td style=\"text-align: right;\">                 7</td><td style=\"text-align: right;\">             44</td></tr>\n",
       "<tr><td>PBKS   </td><td>KKR    </td><td>Tuesday  </td><td>Afternoon </td><td style=\"text-align: right;\">  2025</td><td>Bangalore </td><td style=\"text-align: right;\">                 5</td><td style=\"text-align: right;\">                 7</td><td style=\"text-align: right;\">             28</td></tr>\n",
       "<tr><td>DC     </td><td>LSG    </td><td>Friday   </td><td>Evening   </td><td style=\"text-align: right;\">  2025</td><td>Chennai   </td><td style=\"text-align: right;\">                 6</td><td style=\"text-align: right;\">                 7</td><td style=\"text-align: right;\">             34</td></tr>\n",
       "<tr><td>RR     </td><td>SRH    </td><td>Friday   </td><td>Evening   </td><td style=\"text-align: right;\">  2025</td><td>Lucknow   </td><td style=\"text-align: right;\">                 6</td><td style=\"text-align: right;\">                 7</td><td style=\"text-align: right;\">             34</td></tr>\n",
       "<tr><td>DC     </td><td>KKR    </td><td>Tuesday  </td><td>Evening   </td><td style=\"text-align: right;\">  2025</td><td>Jaipur    </td><td style=\"text-align: right;\">                 6</td><td style=\"text-align: right;\">                 7</td><td style=\"text-align: right;\">             34</td></tr>\n",
       "<tr><td>RR     </td><td>KKR    </td><td>Tuesday  </td><td>Evening   </td><td style=\"text-align: right;\">  2025</td><td>Mumbai    </td><td style=\"text-align: right;\">                 6</td><td style=\"text-align: right;\">                 7</td><td style=\"text-align: right;\">             34</td></tr>\n",
       "<tr><td>PBKS   </td><td>SRH    </td><td>Wednesday</td><td>Evening   </td><td style=\"text-align: right;\">  2025</td><td>Lucknow   </td><td style=\"text-align: right;\">                 5</td><td style=\"text-align: right;\">                 7</td><td style=\"text-align: right;\">             31</td></tr>\n",
       "<tr><td>MI     </td><td>RR     </td><td>Friday   </td><td>Afternoon </td><td style=\"text-align: right;\">  2025</td><td>Bangalore </td><td style=\"text-align: right;\">                10</td><td style=\"text-align: right;\">                 6</td><td style=\"text-align: right;\">             38</td></tr>\n",
       "<tr><td>PBKS   </td><td>LSG    </td><td>Saturday </td><td>Evening   </td><td style=\"text-align: right;\">  2025</td><td>Kolkata   </td><td style=\"text-align: right;\">                 5</td><td style=\"text-align: right;\">                 7</td><td style=\"text-align: right;\">             34</td></tr>\n",
       "</tbody>\n",
       "</table><pre style='font-size: smaller; margin-bottom: 1em;'>[10 rows x 9 columns]</pre>"
      ],
      "text/plain": [
       "team1    team2    days       sessions      year  location      popularity_team1    popularity_team2    pods_required\n",
       "-------  -------  ---------  ----------  ------  ----------  ------------------  ------------------  ---------------\n",
       "RCB      RR       Thursday   Afternoon     2025  Jaipur                       8                   6               33\n",
       "MI       SRH      Thursday   Evening       2025  Chennai                     10                   7               44\n",
       "PBKS     KKR      Tuesday    Afternoon     2025  Bangalore                    5                   7               28\n",
       "DC       LSG      Friday     Evening       2025  Chennai                      6                   7               34\n",
       "RR       SRH      Friday     Evening       2025  Lucknow                      6                   7               34\n",
       "DC       KKR      Tuesday    Evening       2025  Jaipur                       6                   7               34\n",
       "RR       KKR      Tuesday    Evening       2025  Mumbai                       6                   7               34\n",
       "PBKS     SRH      Wednesday  Evening       2025  Lucknow                      5                   7               31\n",
       "MI       RR       Friday     Afternoon     2025  Bangalore                   10                   6               38\n",
       "PBKS     LSG      Saturday   Evening       2025  Kolkata                      5                   7               34\n",
       "[10 rows x 9 columns]\n"
      ]
     },
     "execution_count": 59,
     "metadata": {},
     "output_type": "execute_result"
    }
   ],
   "source": [
    "h2o_current.head()"
   ]
  },
  {
   "cell_type": "code",
   "execution_count": 55,
   "id": "248dc73a-e083-4ffc-9e91-22c9cce309e6",
   "metadata": {},
   "outputs": [
    {
     "data": {
      "text/html": [
       "<pre style='margin: 1em 0 1em 0;'>ModelMetricsRegression: gbm\n",
       "** Reported on test data. **\n",
       "\n",
       "MSE: 6.721207711493824\n",
       "RMSE: 2.5925292113096474\n",
       "MAE: 2.1446828492131704\n",
       "RMSLE: 0.0645509331126285\n",
       "Mean Residual Deviance: 6.721207711493824</pre>"
      ],
      "text/plain": [
       "ModelMetricsRegression: gbm\n",
       "** Reported on test data. **\n",
       "\n",
       "MSE: 6.721207711493824\n",
       "RMSE: 2.5925292113096474\n",
       "MAE: 2.1446828492131704\n",
       "RMSLE: 0.0645509331126285\n",
       "Mean Residual Deviance: 6.721207711493824"
      ]
     },
     "execution_count": 55,
     "metadata": {},
     "output_type": "execute_result"
    }
   ],
   "source": [
    "aml.leader.model_performance(h2o_current)"
   ]
  },
  {
   "cell_type": "code",
   "execution_count": 56,
   "id": "6de83dab-7476-48da-a530-75a0f6f0f81e",
   "metadata": {},
   "outputs": [
    {
     "name": "stdout",
     "output_type": "stream",
     "text": [
      "R² Score: 75.00%\n"
     ]
    }
   ],
   "source": [
    "r2_current = aml.leader.model_performance(h2o_current).r2()\n",
    "print(f\"R² Score: {r2_current:.2%}\")"
   ]
  },
  {
   "cell_type": "code",
   "execution_count": null,
   "id": "ce85c0dc-fe79-4110-b53a-786e91296afe",
   "metadata": {},
   "outputs": [],
   "source": []
  }
 ],
 "metadata": {
  "kernelspec": {
   "display_name": "Python 3 (ipykernel)",
   "language": "python",
   "name": "python3"
  },
  "language_info": {
   "codemirror_mode": {
    "name": "ipython",
    "version": 3
   },
   "file_extension": ".py",
   "mimetype": "text/x-python",
   "name": "python",
   "nbconvert_exporter": "python",
   "pygments_lexer": "ipython3",
   "version": "3.12.4"
  }
 },
 "nbformat": 4,
 "nbformat_minor": 5
}
