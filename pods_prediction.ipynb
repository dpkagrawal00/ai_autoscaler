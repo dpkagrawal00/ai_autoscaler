{
 "cells": [
  {
   "cell_type": "code",
   "execution_count": 64,
   "id": "2829b93d-736f-44bb-91c6-ba58e4eb4fce",
   "metadata": {},
   "outputs": [],
   "source": [
    "##importing libraries\n",
    "import pandas as pd\n",
    "from sklearn.model_selection import train_test_split\n",
    "import h2o\n",
    "from h2o.automl import H2OAutoML"
   ]
  },
  {
   "cell_type": "code",
   "execution_count": null,
   "id": "e788361f",
   "metadata": {},
   "outputs": [],
   "source": [
    "##initializing H2O Auto ML\n",
    "h2o.init()"
   ]
  },
  {
   "cell_type": "code",
   "execution_count": null,
   "id": "65e23dd0-1213-4b81-ac19-397debd1d02a",
   "metadata": {},
   "outputs": [],
   "source": [
    "##Historical IPL Data from 2021 - 2024\n",
    "historical_data = h2o.import_file('/Users/deepakagrawal/AI Hackathon/ipl_train_data.csv')"
   ]
  },
  {
   "cell_type": "code",
   "execution_count": 67,
   "id": "86daa8a6-e059-4571-b6db-c34ab4853684",
   "metadata": {},
   "outputs": [],
   "source": [
    "## Converting historical data in h2o data frames\n",
    "h2o_df = h2o.H2OFrame(historical_data)"
   ]
  },
  {
   "cell_type": "code",
   "execution_count": null,
   "id": "104cc3dc-6f05-447e-9d73-034fae5af34f",
   "metadata": {},
   "outputs": [],
   "source": [
    "h2o_df.types"
   ]
  },
  {
   "cell_type": "code",
   "execution_count": null,
   "id": "c0c20570-af1c-45fa-b3df-ed7ae5846aa0",
   "metadata": {},
   "outputs": [],
   "source": [
    "h2o_df.head()\n"
   ]
  },
  {
   "cell_type": "code",
   "execution_count": 70,
   "id": "420be7c8-c96e-4361-bceb-e361efc86a33",
   "metadata": {},
   "outputs": [],
   "source": [
    "## Splitting train and test data by 80/20 ratio\n",
    "pods_train, pods_test = h2o_df.split_frame(ratios = [0.8], seed = 42)"
   ]
  },
  {
   "cell_type": "code",
   "execution_count": 71,
   "id": "e6cd85fa-d4c9-467a-a6fe-fe37e1f6b188",
   "metadata": {},
   "outputs": [],
   "source": [
    "## Segregating independent and dependent feature\n",
    "Y = \"pods_required\"\n",
    "X = h2o_df.columns\n",
    "X.remove(Y)"
   ]
  },
  {
   "cell_type": "code",
   "execution_count": null,
   "id": "749beb80-fbc1-466f-8617-8d1a16e4e0de",
   "metadata": {},
   "outputs": [],
   "source": [
    "X"
   ]
  },
  {
   "cell_type": "code",
   "execution_count": null,
   "id": "2b8e012f-4021-4d73-b627-dccfb8b50105",
   "metadata": {},
   "outputs": [],
   "source": [
    "Y"
   ]
  },
  {
   "cell_type": "markdown",
   "id": "8a969e31-5bfd-4e9f-8208-8bb34a0b1ea7",
   "metadata": {},
   "source": [
    "#Evaluating model on IPL 2021-2024 training data"
   ]
  },
  {
   "cell_type": "code",
   "execution_count": null,
   "id": "dc1d9a01-39cb-4f68-acf7-2ffe542db074",
   "metadata": {},
   "outputs": [],
   "source": [
    "# Train AutoML Model\n",
    "aml = H2OAutoML(max_models=10, seed=42, exclude_algos=[\"StackedEnsemble\", \"DeepLearning\", \"GLM\"], verbosity = \"info\")\n",
    "aml.train(x = X, y = Y, training_frame = pods_train)"
   ]
  },
  {
   "cell_type": "code",
   "execution_count": 75,
   "id": "ca7cbecf-d3b2-4a8c-b953-279484ad2485",
   "metadata": {},
   "outputs": [],
   "source": [
    "lb = aml.leaderboard"
   ]
  },
  {
   "cell_type": "code",
   "execution_count": null,
   "id": "e9f630bd-64ac-4beb-acf4-167bf6e40993",
   "metadata": {},
   "outputs": [],
   "source": [
    "lb.head()"
   ]
  },
  {
   "cell_type": "code",
   "execution_count": null,
   "id": "a8799872-d0f4-406e-a934-05cbe9dcf147",
   "metadata": {},
   "outputs": [],
   "source": [
    "## Predicting pods requriement on splitted test data\n",
    "pods_pred = aml.leader.predict(pods_test)"
   ]
  },
  {
   "cell_type": "code",
   "execution_count": null,
   "id": "dbdf9f52-e8a9-43f0-9c52-7e76e6f0b8e8",
   "metadata": {
    "scrolled": true
   },
   "outputs": [],
   "source": [
    "pods_test.head()"
   ]
  },
  {
   "cell_type": "code",
   "execution_count": null,
   "id": "fceb95ed-9337-48ad-b8ef-08a7bd9b2ed6",
   "metadata": {},
   "outputs": [],
   "source": [
    "pods_pred.head()"
   ]
  },
  {
   "cell_type": "code",
   "execution_count": null,
   "id": "1c9b14ea-9127-47f5-b6c2-4b1ab1515111",
   "metadata": {},
   "outputs": [],
   "source": [
    "## Evaluating performance of model\n",
    "aml.leader.model_performance(pods_test)"
   ]
  },
  {
   "cell_type": "code",
   "execution_count": null,
   "id": "19e909c3-eafb-4d88-9f8e-19caaa8357bd",
   "metadata": {},
   "outputs": [],
   "source": [
    "## Identifying accuracy of model on test data spllited from train data\n",
    "r2 = aml.leader.model_performance(pods_test).r2()\n",
    "print(f\"R² Score: {r2:.2%}\")"
   ]
  },
  {
   "cell_type": "markdown",
   "id": "c6ffbea0-a109-4505-b2fb-4f13e5d893eb",
   "metadata": {},
   "source": [
    "#Evaluating model on IPL 2025 data"
   ]
  },
  {
   "cell_type": "code",
   "execution_count": null,
   "id": "c0d38dc5-fa0d-4dd5-9966-424b0ba1ffec",
   "metadata": {},
   "outputs": [],
   "source": [
    "## Predicting pods requirement on 2025 IPL data\n",
    "current_data = h2o.import_file('/Users/deepakagrawal/AI Hackathon/ipl_test_data.csv')"
   ]
  },
  {
   "cell_type": "code",
   "execution_count": 83,
   "id": "6619df4b-b47a-4448-8866-da9213545e88",
   "metadata": {},
   "outputs": [],
   "source": [
    "h2o_current = h2o.H2OFrame(current_data)"
   ]
  },
  {
   "cell_type": "code",
   "execution_count": null,
   "id": "bdfb8189-8055-4c52-9c0b-fd8aac17f3b8",
   "metadata": {},
   "outputs": [],
   "source": [
    "h2o_current.head()"
   ]
  },
  {
   "cell_type": "code",
   "execution_count": null,
   "id": "a448bd49-4675-46ec-9cea-eed768d86478",
   "metadata": {},
   "outputs": [],
   "source": [
    "current_pods_pred = aml.leader.predict(h2o_current)"
   ]
  },
  {
   "cell_type": "code",
   "execution_count": null,
   "id": "e8be1a76-b68a-4399-acba-d456677d866f",
   "metadata": {},
   "outputs": [],
   "source": [
    "current_pods_pred.head()"
   ]
  },
  {
   "cell_type": "code",
   "execution_count": null,
   "id": "3b9f8eae-d63a-4113-a1b9-5064fda7ef3d",
   "metadata": {},
   "outputs": [],
   "source": [
    "h2o_current.head()"
   ]
  },
  {
   "cell_type": "code",
   "execution_count": null,
   "id": "248dc73a-e083-4ffc-9e91-22c9cce309e6",
   "metadata": {},
   "outputs": [],
   "source": [
    "aml.leader.model_performance(h2o_current)"
   ]
  },
  {
   "cell_type": "code",
   "execution_count": null,
   "id": "6de83dab-7476-48da-a530-75a0f6f0f81e",
   "metadata": {},
   "outputs": [],
   "source": [
    "## Identifying accuracy of model on 2025 IPL data.\n",
    "r2_current = aml.leader.model_performance(h2o_current).r2()\n",
    "print(f\"R² Score: {r2_current:.2%}\")"
   ]
  }
 ],
 "metadata": {
  "kernelspec": {
   "display_name": "Python 3 (ipykernel)",
   "language": "python",
   "name": "python3"
  },
  "language_info": {
   "codemirror_mode": {
    "name": "ipython",
    "version": 3
   },
   "file_extension": ".py",
   "mimetype": "text/x-python",
   "name": "python",
   "nbconvert_exporter": "python",
   "pygments_lexer": "ipython3",
   "version": "3.12.4"
  }
 },
 "nbformat": 4,
 "nbformat_minor": 5
}
